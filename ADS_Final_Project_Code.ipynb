{
 "cells": [
  {
   "cell_type": "markdown",
   "metadata": {
    "id": "xypdF9SidM1M"
   },
   "source": [
    "# Team 18 - Uber and Lyft Price Prediction"
   ]
  },
  {
   "cell_type": "markdown",
   "metadata": {
    "id": "ffa4DvAodM1N"
   },
   "source": [
    "## 1. Problem Statement\n",
    "____________________________________________________\n",
    "\n",
    "In this project, we analyze tabular data from Uber using a variety of machine learning methods and tools, including numpy, pandas, and matplotlib.\n",
    "\n",
    "We examine several columns in the table, try to tie them to one another, and identify a relationship between those two.\n",
    "We look for and analyze the important variables, such as the date and the month, that enable the Uber Company to improve its operations by concentrating on those services and making the necessary adjustments."
   ]
  },
  {
   "cell_type": "markdown",
   "metadata": {
    "id": "kf3pyArFdM1N"
   },
   "source": [
    "## 2. Importing  data"
   ]
  },
  {
   "cell_type": "code",
   "execution_count": 14,
   "metadata": {
    "id": "spWe8wX-dM1O"
   },
   "outputs": [],
   "source": [
    "import pandas as pd\n",
    "\n",
    "uberdata = pd.read_csv('rideshare_kaggle.csv')"
   ]
  },
  {
   "cell_type": "markdown",
   "metadata": {
    "id": "N-viUF78dM1P"
   },
   "source": [
    "## 3.EDA\n",
    "\n",
    "Exploratory data analysis is the crucial process of doing preliminary analyses on data in order to find patterns, identify anomalies, test hypotheses, and double-check assumptions with the aid of summary statistics and graphical representations.\n",
    "Understanding the data first and attempting to glean as many insights from it as possible is a smart strategy.\n",
    "Understanding the data at hand is the foundation of EDA.\n"
   ]
  },
  {
   "cell_type": "code",
   "execution_count": 15,
   "metadata": {
    "colab": {
     "base_uri": "https://localhost:8080/",
     "height": 450
    },
    "id": "CiH0o0t3dM1P",
    "outputId": "ad22cc1e-e136-4ec1-8a7f-ba83c7e801a8"
   },
   "outputs": [
    {
     "data": {
      "text/html": [
       "<div>\n",
       "<style scoped>\n",
       "    .dataframe tbody tr th:only-of-type {\n",
       "        vertical-align: middle;\n",
       "    }\n",
       "\n",
       "    .dataframe tbody tr th {\n",
       "        vertical-align: top;\n",
       "    }\n",
       "\n",
       "    .dataframe thead th {\n",
       "        text-align: right;\n",
       "    }\n",
       "</style>\n",
       "<table border=\"1\" class=\"dataframe\">\n",
       "  <thead>\n",
       "    <tr style=\"text-align: right;\">\n",
       "      <th></th>\n",
       "      <th>id</th>\n",
       "      <th>timestamp</th>\n",
       "      <th>hour</th>\n",
       "      <th>day</th>\n",
       "      <th>month</th>\n",
       "      <th>datetime</th>\n",
       "      <th>timezone</th>\n",
       "      <th>source</th>\n",
       "      <th>destination</th>\n",
       "      <th>cab_type</th>\n",
       "      <th>...</th>\n",
       "      <th>precipIntensityMax</th>\n",
       "      <th>uvIndexTime</th>\n",
       "      <th>temperatureMin</th>\n",
       "      <th>temperatureMinTime</th>\n",
       "      <th>temperatureMax</th>\n",
       "      <th>temperatureMaxTime</th>\n",
       "      <th>apparentTemperatureMin</th>\n",
       "      <th>apparentTemperatureMinTime</th>\n",
       "      <th>apparentTemperatureMax</th>\n",
       "      <th>apparentTemperatureMaxTime</th>\n",
       "    </tr>\n",
       "  </thead>\n",
       "  <tbody>\n",
       "    <tr>\n",
       "      <th>0</th>\n",
       "      <td>424553bb-7174-41ea-aeb4-fe06d4f4b9d7</td>\n",
       "      <td>1.544953e+09</td>\n",
       "      <td>9</td>\n",
       "      <td>16</td>\n",
       "      <td>12</td>\n",
       "      <td>2018-12-16 09:30:07</td>\n",
       "      <td>America/New_York</td>\n",
       "      <td>Haymarket Square</td>\n",
       "      <td>North Station</td>\n",
       "      <td>Lyft</td>\n",
       "      <td>...</td>\n",
       "      <td>0.1276</td>\n",
       "      <td>1544979600</td>\n",
       "      <td>39.89</td>\n",
       "      <td>1545012000</td>\n",
       "      <td>43.68</td>\n",
       "      <td>1544968800</td>\n",
       "      <td>33.73</td>\n",
       "      <td>1545012000</td>\n",
       "      <td>38.07</td>\n",
       "      <td>1544958000</td>\n",
       "    </tr>\n",
       "    <tr>\n",
       "      <th>1</th>\n",
       "      <td>4bd23055-6827-41c6-b23b-3c491f24e74d</td>\n",
       "      <td>1.543284e+09</td>\n",
       "      <td>2</td>\n",
       "      <td>27</td>\n",
       "      <td>11</td>\n",
       "      <td>2018-11-27 02:00:23</td>\n",
       "      <td>America/New_York</td>\n",
       "      <td>Haymarket Square</td>\n",
       "      <td>North Station</td>\n",
       "      <td>Lyft</td>\n",
       "      <td>...</td>\n",
       "      <td>0.1300</td>\n",
       "      <td>1543251600</td>\n",
       "      <td>40.49</td>\n",
       "      <td>1543233600</td>\n",
       "      <td>47.30</td>\n",
       "      <td>1543251600</td>\n",
       "      <td>36.20</td>\n",
       "      <td>1543291200</td>\n",
       "      <td>43.92</td>\n",
       "      <td>1543251600</td>\n",
       "    </tr>\n",
       "    <tr>\n",
       "      <th>2</th>\n",
       "      <td>981a3613-77af-4620-a42a-0c0866077d1e</td>\n",
       "      <td>1.543367e+09</td>\n",
       "      <td>1</td>\n",
       "      <td>28</td>\n",
       "      <td>11</td>\n",
       "      <td>2018-11-28 01:00:22</td>\n",
       "      <td>America/New_York</td>\n",
       "      <td>Haymarket Square</td>\n",
       "      <td>North Station</td>\n",
       "      <td>Lyft</td>\n",
       "      <td>...</td>\n",
       "      <td>0.1064</td>\n",
       "      <td>1543338000</td>\n",
       "      <td>35.36</td>\n",
       "      <td>1543377600</td>\n",
       "      <td>47.55</td>\n",
       "      <td>1543320000</td>\n",
       "      <td>31.04</td>\n",
       "      <td>1543377600</td>\n",
       "      <td>44.12</td>\n",
       "      <td>1543320000</td>\n",
       "    </tr>\n",
       "    <tr>\n",
       "      <th>3</th>\n",
       "      <td>c2d88af2-d278-4bfd-a8d0-29ca77cc5512</td>\n",
       "      <td>1.543554e+09</td>\n",
       "      <td>4</td>\n",
       "      <td>30</td>\n",
       "      <td>11</td>\n",
       "      <td>2018-11-30 04:53:02</td>\n",
       "      <td>America/New_York</td>\n",
       "      <td>Haymarket Square</td>\n",
       "      <td>North Station</td>\n",
       "      <td>Lyft</td>\n",
       "      <td>...</td>\n",
       "      <td>0.0000</td>\n",
       "      <td>1543507200</td>\n",
       "      <td>34.67</td>\n",
       "      <td>1543550400</td>\n",
       "      <td>45.03</td>\n",
       "      <td>1543510800</td>\n",
       "      <td>30.30</td>\n",
       "      <td>1543550400</td>\n",
       "      <td>38.53</td>\n",
       "      <td>1543510800</td>\n",
       "    </tr>\n",
       "    <tr>\n",
       "      <th>4</th>\n",
       "      <td>e0126e1f-8ca9-4f2e-82b3-50505a09db9a</td>\n",
       "      <td>1.543463e+09</td>\n",
       "      <td>3</td>\n",
       "      <td>29</td>\n",
       "      <td>11</td>\n",
       "      <td>2018-11-29 03:49:20</td>\n",
       "      <td>America/New_York</td>\n",
       "      <td>Haymarket Square</td>\n",
       "      <td>North Station</td>\n",
       "      <td>Lyft</td>\n",
       "      <td>...</td>\n",
       "      <td>0.0001</td>\n",
       "      <td>1543420800</td>\n",
       "      <td>33.10</td>\n",
       "      <td>1543402800</td>\n",
       "      <td>42.18</td>\n",
       "      <td>1543420800</td>\n",
       "      <td>29.11</td>\n",
       "      <td>1543392000</td>\n",
       "      <td>35.75</td>\n",
       "      <td>1543420800</td>\n",
       "    </tr>\n",
       "  </tbody>\n",
       "</table>\n",
       "<p>5 rows × 57 columns</p>\n",
       "</div>"
      ],
      "text/plain": [
       "                                     id     timestamp  hour  day  month  \\\n",
       "0  424553bb-7174-41ea-aeb4-fe06d4f4b9d7  1.544953e+09     9   16     12   \n",
       "1  4bd23055-6827-41c6-b23b-3c491f24e74d  1.543284e+09     2   27     11   \n",
       "2  981a3613-77af-4620-a42a-0c0866077d1e  1.543367e+09     1   28     11   \n",
       "3  c2d88af2-d278-4bfd-a8d0-29ca77cc5512  1.543554e+09     4   30     11   \n",
       "4  e0126e1f-8ca9-4f2e-82b3-50505a09db9a  1.543463e+09     3   29     11   \n",
       "\n",
       "              datetime          timezone            source    destination  \\\n",
       "0  2018-12-16 09:30:07  America/New_York  Haymarket Square  North Station   \n",
       "1  2018-11-27 02:00:23  America/New_York  Haymarket Square  North Station   \n",
       "2  2018-11-28 01:00:22  America/New_York  Haymarket Square  North Station   \n",
       "3  2018-11-30 04:53:02  America/New_York  Haymarket Square  North Station   \n",
       "4  2018-11-29 03:49:20  America/New_York  Haymarket Square  North Station   \n",
       "\n",
       "  cab_type  ... precipIntensityMax uvIndexTime  temperatureMin  \\\n",
       "0     Lyft  ...             0.1276  1544979600           39.89   \n",
       "1     Lyft  ...             0.1300  1543251600           40.49   \n",
       "2     Lyft  ...             0.1064  1543338000           35.36   \n",
       "3     Lyft  ...             0.0000  1543507200           34.67   \n",
       "4     Lyft  ...             0.0001  1543420800           33.10   \n",
       "\n",
       "   temperatureMinTime  temperatureMax  temperatureMaxTime  \\\n",
       "0          1545012000           43.68          1544968800   \n",
       "1          1543233600           47.30          1543251600   \n",
       "2          1543377600           47.55          1543320000   \n",
       "3          1543550400           45.03          1543510800   \n",
       "4          1543402800           42.18          1543420800   \n",
       "\n",
       "   apparentTemperatureMin  apparentTemperatureMinTime  apparentTemperatureMax  \\\n",
       "0                   33.73                  1545012000                   38.07   \n",
       "1                   36.20                  1543291200                   43.92   \n",
       "2                   31.04                  1543377600                   44.12   \n",
       "3                   30.30                  1543550400                   38.53   \n",
       "4                   29.11                  1543392000                   35.75   \n",
       "\n",
       "  apparentTemperatureMaxTime  \n",
       "0                 1544958000  \n",
       "1                 1543251600  \n",
       "2                 1543320000  \n",
       "3                 1543510800  \n",
       "4                 1543420800  \n",
       "\n",
       "[5 rows x 57 columns]"
      ]
     },
     "execution_count": 15,
     "metadata": {},
     "output_type": "execute_result"
    }
   ],
   "source": [
    "uberdata.head()"
   ]
  },
  {
   "cell_type": "code",
   "execution_count": 16,
   "metadata": {
    "colab": {
     "base_uri": "https://localhost:8080/"
    },
    "id": "XdZMx0oAdM1U",
    "outputId": "d17c8220-dbf1-4f43-f3c4-9b85353081e6"
   },
   "outputs": [
    {
     "data": {
      "text/plain": [
       "(693071, 57)"
      ]
     },
     "execution_count": 16,
     "metadata": {},
     "output_type": "execute_result"
    }
   ],
   "source": [
    "uberdata.shape"
   ]
  },
  {
   "cell_type": "code",
   "execution_count": 17,
   "metadata": {
    "colab": {
     "base_uri": "https://localhost:8080/"
    },
    "id": "X5IjbtnkdM1V",
    "outputId": "5052b360-dc4e-4d4d-84df-9c4a8fc2a7e1"
   },
   "outputs": [
    {
     "name": "stdout",
     "output_type": "stream",
     "text": [
      "<class 'pandas.core.frame.DataFrame'>\n",
      "RangeIndex: 693071 entries, 0 to 693070\n",
      "Data columns (total 57 columns):\n",
      " #   Column                       Non-Null Count   Dtype  \n",
      "---  ------                       --------------   -----  \n",
      " 0   id                           693071 non-null  object \n",
      " 1   timestamp                    693071 non-null  float64\n",
      " 2   hour                         693071 non-null  int64  \n",
      " 3   day                          693071 non-null  int64  \n",
      " 4   month                        693071 non-null  int64  \n",
      " 5   datetime                     693071 non-null  object \n",
      " 6   timezone                     693071 non-null  object \n",
      " 7   source                       693071 non-null  object \n",
      " 8   destination                  693071 non-null  object \n",
      " 9   cab_type                     693071 non-null  object \n",
      " 10  product_id                   693071 non-null  object \n",
      " 11  name                         693071 non-null  object \n",
      " 12  price                        637976 non-null  float64\n",
      " 13  distance                     693071 non-null  float64\n",
      " 14  surge_multiplier             693071 non-null  float64\n",
      " 15  latitude                     693071 non-null  float64\n",
      " 16  longitude                    693071 non-null  float64\n",
      " 17  temperature                  693071 non-null  float64\n",
      " 18  apparentTemperature          693071 non-null  float64\n",
      " 19  short_summary                693071 non-null  object \n",
      " 20  long_summary                 693071 non-null  object \n",
      " 21  precipIntensity              693071 non-null  float64\n",
      " 22  precipProbability            693071 non-null  float64\n",
      " 23  humidity                     693071 non-null  float64\n",
      " 24  windSpeed                    693071 non-null  float64\n",
      " 25  windGust                     693071 non-null  float64\n",
      " 26  windGustTime                 693071 non-null  int64  \n",
      " 27  visibility                   693071 non-null  float64\n",
      " 28  temperatureHigh              693071 non-null  float64\n",
      " 29  temperatureHighTime          693071 non-null  int64  \n",
      " 30  temperatureLow               693071 non-null  float64\n",
      " 31  temperatureLowTime           693071 non-null  int64  \n",
      " 32  apparentTemperatureHigh      693071 non-null  float64\n",
      " 33  apparentTemperatureHighTime  693071 non-null  int64  \n",
      " 34  apparentTemperatureLow       693071 non-null  float64\n",
      " 35  apparentTemperatureLowTime   693071 non-null  int64  \n",
      " 36  icon                         693071 non-null  object \n",
      " 37  dewPoint                     693071 non-null  float64\n",
      " 38  pressure                     693071 non-null  float64\n",
      " 39  windBearing                  693071 non-null  int64  \n",
      " 40  cloudCover                   693071 non-null  float64\n",
      " 41  uvIndex                      693071 non-null  int64  \n",
      " 42  visibility.1                 693071 non-null  float64\n",
      " 43  ozone                        693071 non-null  float64\n",
      " 44  sunriseTime                  693071 non-null  int64  \n",
      " 45  sunsetTime                   693071 non-null  int64  \n",
      " 46  moonPhase                    693071 non-null  float64\n",
      " 47  precipIntensityMax           693071 non-null  float64\n",
      " 48  uvIndexTime                  693071 non-null  int64  \n",
      " 49  temperatureMin               693071 non-null  float64\n",
      " 50  temperatureMinTime           693071 non-null  int64  \n",
      " 51  temperatureMax               693071 non-null  float64\n",
      " 52  temperatureMaxTime           693071 non-null  int64  \n",
      " 53  apparentTemperatureMin       693071 non-null  float64\n",
      " 54  apparentTemperatureMinTime   693071 non-null  int64  \n",
      " 55  apparentTemperatureMax       693071 non-null  float64\n",
      " 56  apparentTemperatureMaxTime   693071 non-null  int64  \n",
      "dtypes: float64(29), int64(17), object(11)\n",
      "memory usage: 301.4+ MB\n"
     ]
    }
   ],
   "source": [
    "uberdata.info()"
   ]
  },
  {
   "cell_type": "code",
   "execution_count": 18,
   "metadata": {
    "colab": {
     "base_uri": "https://localhost:8080/",
     "height": 304
    },
    "id": "-C2M6UZkdM1W",
    "outputId": "8761f1bc-4371-4ae6-9cd5-43188090cd78"
   },
   "outputs": [
    {
     "data": {
      "text/html": [
       "<div>\n",
       "<style scoped>\n",
       "    .dataframe tbody tr th:only-of-type {\n",
       "        vertical-align: middle;\n",
       "    }\n",
       "\n",
       "    .dataframe tbody tr th {\n",
       "        vertical-align: top;\n",
       "    }\n",
       "\n",
       "    .dataframe thead th {\n",
       "        text-align: right;\n",
       "    }\n",
       "</style>\n",
       "<table border=\"1\" class=\"dataframe\">\n",
       "  <thead>\n",
       "    <tr style=\"text-align: right;\">\n",
       "      <th></th>\n",
       "      <th>timestamp</th>\n",
       "      <th>hour</th>\n",
       "      <th>day</th>\n",
       "      <th>month</th>\n",
       "      <th>price</th>\n",
       "      <th>distance</th>\n",
       "      <th>surge_multiplier</th>\n",
       "      <th>latitude</th>\n",
       "      <th>longitude</th>\n",
       "      <th>temperature</th>\n",
       "      <th>...</th>\n",
       "      <th>precipIntensityMax</th>\n",
       "      <th>uvIndexTime</th>\n",
       "      <th>temperatureMin</th>\n",
       "      <th>temperatureMinTime</th>\n",
       "      <th>temperatureMax</th>\n",
       "      <th>temperatureMaxTime</th>\n",
       "      <th>apparentTemperatureMin</th>\n",
       "      <th>apparentTemperatureMinTime</th>\n",
       "      <th>apparentTemperatureMax</th>\n",
       "      <th>apparentTemperatureMaxTime</th>\n",
       "    </tr>\n",
       "  </thead>\n",
       "  <tbody>\n",
       "    <tr>\n",
       "      <th>count</th>\n",
       "      <td>6.930710e+05</td>\n",
       "      <td>693071.000000</td>\n",
       "      <td>693071.000000</td>\n",
       "      <td>693071.000000</td>\n",
       "      <td>637976.000000</td>\n",
       "      <td>693071.000000</td>\n",
       "      <td>693071.000000</td>\n",
       "      <td>693071.000000</td>\n",
       "      <td>693071.000000</td>\n",
       "      <td>693071.000000</td>\n",
       "      <td>...</td>\n",
       "      <td>693071.000000</td>\n",
       "      <td>6.930710e+05</td>\n",
       "      <td>693071.000000</td>\n",
       "      <td>6.930710e+05</td>\n",
       "      <td>693071.000000</td>\n",
       "      <td>6.930710e+05</td>\n",
       "      <td>693071.000000</td>\n",
       "      <td>6.930710e+05</td>\n",
       "      <td>693071.000000</td>\n",
       "      <td>6.930710e+05</td>\n",
       "    </tr>\n",
       "    <tr>\n",
       "      <th>mean</th>\n",
       "      <td>1.544046e+09</td>\n",
       "      <td>11.619137</td>\n",
       "      <td>17.794365</td>\n",
       "      <td>11.586684</td>\n",
       "      <td>16.545125</td>\n",
       "      <td>2.189430</td>\n",
       "      <td>1.013870</td>\n",
       "      <td>42.338172</td>\n",
       "      <td>-71.066151</td>\n",
       "      <td>39.584388</td>\n",
       "      <td>...</td>\n",
       "      <td>0.037374</td>\n",
       "      <td>1.544044e+09</td>\n",
       "      <td>33.457774</td>\n",
       "      <td>1.544042e+09</td>\n",
       "      <td>45.261313</td>\n",
       "      <td>1.544047e+09</td>\n",
       "      <td>29.731002</td>\n",
       "      <td>1.544048e+09</td>\n",
       "      <td>41.997343</td>\n",
       "      <td>1.544048e+09</td>\n",
       "    </tr>\n",
       "    <tr>\n",
       "      <th>std</th>\n",
       "      <td>6.891925e+05</td>\n",
       "      <td>6.948114</td>\n",
       "      <td>9.982286</td>\n",
       "      <td>0.492429</td>\n",
       "      <td>9.324359</td>\n",
       "      <td>1.138937</td>\n",
       "      <td>0.091641</td>\n",
       "      <td>0.047840</td>\n",
       "      <td>0.020302</td>\n",
       "      <td>6.726084</td>\n",
       "      <td>...</td>\n",
       "      <td>0.055214</td>\n",
       "      <td>6.912028e+05</td>\n",
       "      <td>6.467224</td>\n",
       "      <td>6.901954e+05</td>\n",
       "      <td>5.645046</td>\n",
       "      <td>6.901353e+05</td>\n",
       "      <td>7.110494</td>\n",
       "      <td>6.871862e+05</td>\n",
       "      <td>6.936841</td>\n",
       "      <td>6.910777e+05</td>\n",
       "    </tr>\n",
       "    <tr>\n",
       "      <th>min</th>\n",
       "      <td>1.543204e+09</td>\n",
       "      <td>0.000000</td>\n",
       "      <td>1.000000</td>\n",
       "      <td>11.000000</td>\n",
       "      <td>2.500000</td>\n",
       "      <td>0.020000</td>\n",
       "      <td>1.000000</td>\n",
       "      <td>42.214800</td>\n",
       "      <td>-71.105400</td>\n",
       "      <td>18.910000</td>\n",
       "      <td>...</td>\n",
       "      <td>0.000000</td>\n",
       "      <td>1.543162e+09</td>\n",
       "      <td>15.630000</td>\n",
       "      <td>1.543122e+09</td>\n",
       "      <td>33.510000</td>\n",
       "      <td>1.543154e+09</td>\n",
       "      <td>11.810000</td>\n",
       "      <td>1.543136e+09</td>\n",
       "      <td>28.950000</td>\n",
       "      <td>1.543187e+09</td>\n",
       "    </tr>\n",
       "    <tr>\n",
       "      <th>25%</th>\n",
       "      <td>1.543444e+09</td>\n",
       "      <td>6.000000</td>\n",
       "      <td>13.000000</td>\n",
       "      <td>11.000000</td>\n",
       "      <td>9.000000</td>\n",
       "      <td>1.280000</td>\n",
       "      <td>1.000000</td>\n",
       "      <td>42.350300</td>\n",
       "      <td>-71.081000</td>\n",
       "      <td>36.450000</td>\n",
       "      <td>...</td>\n",
       "      <td>0.000000</td>\n",
       "      <td>1.543421e+09</td>\n",
       "      <td>30.170000</td>\n",
       "      <td>1.543399e+09</td>\n",
       "      <td>42.570000</td>\n",
       "      <td>1.543439e+09</td>\n",
       "      <td>27.760000</td>\n",
       "      <td>1.543399e+09</td>\n",
       "      <td>36.570000</td>\n",
       "      <td>1.543439e+09</td>\n",
       "    </tr>\n",
       "    <tr>\n",
       "      <th>50%</th>\n",
       "      <td>1.543737e+09</td>\n",
       "      <td>12.000000</td>\n",
       "      <td>17.000000</td>\n",
       "      <td>12.000000</td>\n",
       "      <td>13.500000</td>\n",
       "      <td>2.160000</td>\n",
       "      <td>1.000000</td>\n",
       "      <td>42.351900</td>\n",
       "      <td>-71.063100</td>\n",
       "      <td>40.490000</td>\n",
       "      <td>...</td>\n",
       "      <td>0.000400</td>\n",
       "      <td>1.543770e+09</td>\n",
       "      <td>34.240000</td>\n",
       "      <td>1.543727e+09</td>\n",
       "      <td>44.680000</td>\n",
       "      <td>1.543788e+09</td>\n",
       "      <td>30.130000</td>\n",
       "      <td>1.543745e+09</td>\n",
       "      <td>40.950000</td>\n",
       "      <td>1.543788e+09</td>\n",
       "    </tr>\n",
       "    <tr>\n",
       "      <th>75%</th>\n",
       "      <td>1.544828e+09</td>\n",
       "      <td>18.000000</td>\n",
       "      <td>28.000000</td>\n",
       "      <td>12.000000</td>\n",
       "      <td>22.500000</td>\n",
       "      <td>2.920000</td>\n",
       "      <td>1.000000</td>\n",
       "      <td>42.364700</td>\n",
       "      <td>-71.054200</td>\n",
       "      <td>43.580000</td>\n",
       "      <td>...</td>\n",
       "      <td>0.091600</td>\n",
       "      <td>1.544807e+09</td>\n",
       "      <td>38.880000</td>\n",
       "      <td>1.544789e+09</td>\n",
       "      <td>46.910000</td>\n",
       "      <td>1.544814e+09</td>\n",
       "      <td>35.710000</td>\n",
       "      <td>1.544789e+09</td>\n",
       "      <td>44.120000</td>\n",
       "      <td>1.544818e+09</td>\n",
       "    </tr>\n",
       "    <tr>\n",
       "      <th>max</th>\n",
       "      <td>1.545161e+09</td>\n",
       "      <td>23.000000</td>\n",
       "      <td>30.000000</td>\n",
       "      <td>12.000000</td>\n",
       "      <td>97.500000</td>\n",
       "      <td>7.860000</td>\n",
       "      <td>3.000000</td>\n",
       "      <td>42.366100</td>\n",
       "      <td>-71.033000</td>\n",
       "      <td>57.220000</td>\n",
       "      <td>...</td>\n",
       "      <td>0.145900</td>\n",
       "      <td>1.545152e+09</td>\n",
       "      <td>43.100000</td>\n",
       "      <td>1.545192e+09</td>\n",
       "      <td>57.870000</td>\n",
       "      <td>1.545109e+09</td>\n",
       "      <td>40.050000</td>\n",
       "      <td>1.545134e+09</td>\n",
       "      <td>57.200000</td>\n",
       "      <td>1.545109e+09</td>\n",
       "    </tr>\n",
       "  </tbody>\n",
       "</table>\n",
       "<p>8 rows × 46 columns</p>\n",
       "</div>"
      ],
      "text/plain": [
       "          timestamp           hour            day          month  \\\n",
       "count  6.930710e+05  693071.000000  693071.000000  693071.000000   \n",
       "mean   1.544046e+09      11.619137      17.794365      11.586684   \n",
       "std    6.891925e+05       6.948114       9.982286       0.492429   \n",
       "min    1.543204e+09       0.000000       1.000000      11.000000   \n",
       "25%    1.543444e+09       6.000000      13.000000      11.000000   \n",
       "50%    1.543737e+09      12.000000      17.000000      12.000000   \n",
       "75%    1.544828e+09      18.000000      28.000000      12.000000   \n",
       "max    1.545161e+09      23.000000      30.000000      12.000000   \n",
       "\n",
       "               price       distance  surge_multiplier       latitude  \\\n",
       "count  637976.000000  693071.000000     693071.000000  693071.000000   \n",
       "mean       16.545125       2.189430          1.013870      42.338172   \n",
       "std         9.324359       1.138937          0.091641       0.047840   \n",
       "min         2.500000       0.020000          1.000000      42.214800   \n",
       "25%         9.000000       1.280000          1.000000      42.350300   \n",
       "50%        13.500000       2.160000          1.000000      42.351900   \n",
       "75%        22.500000       2.920000          1.000000      42.364700   \n",
       "max        97.500000       7.860000          3.000000      42.366100   \n",
       "\n",
       "           longitude    temperature  ...  precipIntensityMax   uvIndexTime  \\\n",
       "count  693071.000000  693071.000000  ...       693071.000000  6.930710e+05   \n",
       "mean      -71.066151      39.584388  ...            0.037374  1.544044e+09   \n",
       "std         0.020302       6.726084  ...            0.055214  6.912028e+05   \n",
       "min       -71.105400      18.910000  ...            0.000000  1.543162e+09   \n",
       "25%       -71.081000      36.450000  ...            0.000000  1.543421e+09   \n",
       "50%       -71.063100      40.490000  ...            0.000400  1.543770e+09   \n",
       "75%       -71.054200      43.580000  ...            0.091600  1.544807e+09   \n",
       "max       -71.033000      57.220000  ...            0.145900  1.545152e+09   \n",
       "\n",
       "       temperatureMin  temperatureMinTime  temperatureMax  temperatureMaxTime  \\\n",
       "count   693071.000000        6.930710e+05   693071.000000        6.930710e+05   \n",
       "mean        33.457774        1.544042e+09       45.261313        1.544047e+09   \n",
       "std          6.467224        6.901954e+05        5.645046        6.901353e+05   \n",
       "min         15.630000        1.543122e+09       33.510000        1.543154e+09   \n",
       "25%         30.170000        1.543399e+09       42.570000        1.543439e+09   \n",
       "50%         34.240000        1.543727e+09       44.680000        1.543788e+09   \n",
       "75%         38.880000        1.544789e+09       46.910000        1.544814e+09   \n",
       "max         43.100000        1.545192e+09       57.870000        1.545109e+09   \n",
       "\n",
       "       apparentTemperatureMin  apparentTemperatureMinTime  \\\n",
       "count           693071.000000                6.930710e+05   \n",
       "mean                29.731002                1.544048e+09   \n",
       "std                  7.110494                6.871862e+05   \n",
       "min                 11.810000                1.543136e+09   \n",
       "25%                 27.760000                1.543399e+09   \n",
       "50%                 30.130000                1.543745e+09   \n",
       "75%                 35.710000                1.544789e+09   \n",
       "max                 40.050000                1.545134e+09   \n",
       "\n",
       "       apparentTemperatureMax  apparentTemperatureMaxTime  \n",
       "count           693071.000000                6.930710e+05  \n",
       "mean                41.997343                1.544048e+09  \n",
       "std                  6.936841                6.910777e+05  \n",
       "min                 28.950000                1.543187e+09  \n",
       "25%                 36.570000                1.543439e+09  \n",
       "50%                 40.950000                1.543788e+09  \n",
       "75%                 44.120000                1.544818e+09  \n",
       "max                 57.200000                1.545109e+09  \n",
       "\n",
       "[8 rows x 46 columns]"
      ]
     },
     "execution_count": 18,
     "metadata": {},
     "output_type": "execute_result"
    }
   ],
   "source": [
    "uberdata.describe()"
   ]
  },
  {
   "cell_type": "code",
   "execution_count": 19,
   "metadata": {
    "colab": {
     "base_uri": "https://localhost:8080/"
    },
    "id": "G79HQLtXdM1W",
    "outputId": "db1e3ce5-826c-4451-fe6d-a2f1a9e69a34"
   },
   "outputs": [
    {
     "data": {
      "text/plain": [
       "id                                 0\n",
       "timestamp                          0\n",
       "hour                               0\n",
       "day                                0\n",
       "month                              0\n",
       "datetime                           0\n",
       "timezone                           0\n",
       "source                             0\n",
       "destination                        0\n",
       "cab_type                           0\n",
       "product_id                         0\n",
       "name                               0\n",
       "price                          55095\n",
       "distance                           0\n",
       "surge_multiplier                   0\n",
       "latitude                           0\n",
       "longitude                          0\n",
       "temperature                        0\n",
       "apparentTemperature                0\n",
       "short_summary                      0\n",
       "long_summary                       0\n",
       "precipIntensity                    0\n",
       "precipProbability                  0\n",
       "humidity                           0\n",
       "windSpeed                          0\n",
       "windGust                           0\n",
       "windGustTime                       0\n",
       "visibility                         0\n",
       "temperatureHigh                    0\n",
       "temperatureHighTime                0\n",
       "temperatureLow                     0\n",
       "temperatureLowTime                 0\n",
       "apparentTemperatureHigh            0\n",
       "apparentTemperatureHighTime        0\n",
       "apparentTemperatureLow             0\n",
       "apparentTemperatureLowTime         0\n",
       "icon                               0\n",
       "dewPoint                           0\n",
       "pressure                           0\n",
       "windBearing                        0\n",
       "cloudCover                         0\n",
       "uvIndex                            0\n",
       "visibility.1                       0\n",
       "ozone                              0\n",
       "sunriseTime                        0\n",
       "sunsetTime                         0\n",
       "moonPhase                          0\n",
       "precipIntensityMax                 0\n",
       "uvIndexTime                        0\n",
       "temperatureMin                     0\n",
       "temperatureMinTime                 0\n",
       "temperatureMax                     0\n",
       "temperatureMaxTime                 0\n",
       "apparentTemperatureMin             0\n",
       "apparentTemperatureMinTime         0\n",
       "apparentTemperatureMax             0\n",
       "apparentTemperatureMaxTime         0\n",
       "dtype: int64"
      ]
     },
     "execution_count": 19,
     "metadata": {},
     "output_type": "execute_result"
    }
   ],
   "source": [
    "#Finding the null Values\n",
    "uberdata.isnull().sum()"
   ]
  },
  {
   "cell_type": "markdown",
   "metadata": {
    "id": "byuNn6SDdM1X"
   },
   "source": [
    "## 4. Feature Engineering\n",
    "\n",
    "In essence, all machine learning algorithms generate outputs using some form of input data. The features contained in these input data often take the form of structured columns. In order for algorithms to function successfully, features must have a particular attribute. Feature engineering becomes necessary in this situation.\n",
    "\n",
    "The key objectives of feature engineering are Creating an appropriate input dataset that complies with the demands of the machine learning algorithm and Improving how well machine learning models perform.\n"
   ]
  },
  {
   "cell_type": "markdown",
   "metadata": {
    "id": "dMEqz3Nn671w"
   },
   "source": [
    "### Visualization"
   ]
  },
  {
   "cell_type": "code",
   "execution_count": 20,
   "metadata": {
    "id": "JWSl-RxHdM1X"
   },
   "outputs": [],
   "source": [
    "import matplotlib.pyplot as plt\n",
    "import numpy as np\n",
    "%matplotlib inline\n",
    "import seaborn as sns\n",
    "import pandas as pd"
   ]
  },
  {
   "cell_type": "code",
   "execution_count": 21,
   "metadata": {
    "colab": {
     "base_uri": "https://localhost:8080/",
     "height": 296
    },
    "id": "Wd3NSU2Kpbif",
    "outputId": "4b90cbd0-97a8-4924-e9c9-4201f7fc1fec"
   },
   "outputs": [
    {
     "data": {
      "text/plain": [
       "<AxesSubplot:xlabel='price', ylabel='icon'>"
      ]
     },
     "execution_count": 21,
     "metadata": {},
     "output_type": "execute_result"
    },
    {
     "data": {
      "image/png": "[encoded data removed]",
      "text/plain": [
       "<Figure size 432x288 with 1 Axes>"
      ]
     },
     "metadata": {
      "needs_background": "light"
     },
     "output_type": "display_data"
    }
   ],
   "source": [
    "#finding the price range based on weather condition\n",
    "sns.stripplot(data=uberdata, x='price', y='icon',palette='mako')"
   ]
  },
  {
   "cell_type": "code",
   "execution_count": 22,
   "metadata": {
    "colab": {
     "base_uri": "https://localhost:8080/",
     "height": 297
    },
    "id": "g-7nA4HMdM1Y",
    "outputId": "00a0b769-b289-4fe4-c335-1f708a3ade59"
   },
   "outputs": [
    {
     "data": {
      "text/plain": [
       "<AxesSubplot:xlabel='surge_multiplier', ylabel='source'>"
      ]
     },
     "execution_count": 22,
     "metadata": {},
     "output_type": "execute_result"
    },
    {
     "data": {
      "image/png": "[encoded data removed]",
      "text/plain": [
       "<Figure size 432x288 with 1 Axes>"
      ]
     },
     "metadata": {
      "needs_background": "light"
     },
     "output_type": "display_data"
    }
   ],
   "source": [
    "#Strip plot based on Source of destination\n",
    "sns.stripplot(data=uberdata, x='surge_multiplier', y='source',palette='Paired')"
   ]
  },
  {
   "cell_type": "code",
   "execution_count": 23,
   "metadata": {
    "colab": {
     "base_uri": "https://localhost:8080/",
     "height": 297
    },
    "id": "Lac88Z51dM1Y",
    "outputId": "b3acbdc3-ff12-406c-8a15-2d5ac86fb34c"
   },
   "outputs": [
    {
     "data": {
      "text/plain": [
       "<AxesSubplot:xlabel='surge_multiplier', ylabel='hour'>"
      ]
     },
     "execution_count": 23,
     "metadata": {},
     "output_type": "execute_result"
    },
    {
     "data": {
      "image/png": "[encoded data removed]",
      "text/plain": [
       "<Figure size 432x288 with 1 Axes>"
      ]
     },
     "metadata": {
      "needs_background": "light"
     },
     "output_type": "display_data"
    }
   ],
   "source": [
    "#Strip plot based on hour vs price\n",
    "sns.stripplot(data=uberdata, x='surge_multiplier', y='hour',palette='Paired')"
   ]
  },
  {
   "cell_type": "code",
   "execution_count": 24,
   "metadata": {
    "colab": {
     "base_uri": "https://localhost:8080/"
    },
    "id": "wCQGBqcFdM1Y",
    "outputId": "c04bb4db-11c9-4a42-98fb-220d362f324e"
   },
   "outputs": [
    {
     "data": {
      "text/plain": [
       "0    1.544953e+09\n",
       "1    1.543284e+09\n",
       "2    1.543367e+09\n",
       "3    1.543554e+09\n",
       "4    1.543463e+09\n",
       "Name: timestamp, dtype: float64"
      ]
     },
     "execution_count": 24,
     "metadata": {},
     "output_type": "execute_result"
    }
   ],
   "source": [
    "uberdata['timestamp'].head()"
   ]
  },
  {
   "cell_type": "code",
   "execution_count": 25,
   "metadata": {},
   "outputs": [
    {
     "name": "stdout",
     "output_type": "stream",
     "text": [
      "date_object = 2018-12-16 04:30:08\n",
      "date_object = 2018-11-26 21:00:24\n",
      "date_object = 2018-12-03 01:28:03\n",
      "date_object = 2018-11-30 11:13:04\n",
      "date_object = 2018-12-13 14:15:04\n"
     ]
    }
   ],
   "source": [
    "from datetime import datetime\n",
    "timest1 = 1544952608\n",
    "timest2 = 1543284024\n",
    "timest3 = 1543818483\n",
    "timest4 = 1543594384\n",
    "timest5 = 1544728504\n",
    "dt1 = datetime.fromtimestamp(timest1)\n",
    "dt2 = datetime.fromtimestamp(timest2)\n",
    "dt3 = datetime.fromtimestamp(timest3)\n",
    "dt4 = datetime.fromtimestamp(timest4)\n",
    "dt5 = datetime.fromtimestamp(timest5)\n",
    "\n",
    "print(\"date_object =\", dt1)\n",
    "print(\"date_object =\", dt2)\n",
    "print(\"date_object =\", dt3)\n",
    "print(\"date_object =\", dt4)\n",
    "print(\"date_object =\", dt5)"
   ]
  },
  {
   "cell_type": "markdown",
   "metadata": {},
   "source": [
    "We learn that our data is from the year 2018 and only covers the months of November and December"
   ]
  },
  {
   "cell_type": "code",
   "execution_count": 27,
   "metadata": {
    "colab": {
     "base_uri": "https://localhost:8080/",
     "height": 339
    },
    "id": "p-9XJDcldM1Z",
    "outputId": "29890236-b7b1-4204-d09e-24d761afcb94"
   },
   "outputs": [
    {
     "data": {
      "text/plain": [
       "Text(0, 0.5, 'Total count')"
      ]
     },
     "execution_count": 27,
     "metadata": {},
     "output_type": "execute_result"
    },
    {
     "data": {
      "image/png": "[encoded data removed]",
      "text/plain": [
       "<Figure size 720x360 with 1 Axes>"
      ]
     },
     "metadata": {
      "needs_background": "light"
     },
     "output_type": "display_data"
    }
   ],
   "source": [
    "#Bar plot to find the count of rides in November and December\n",
    "uberdata['month'].value_counts().plot(kind='bar', figsize=(10,5), cmap='viridis')\n",
    "plt.xlabel(\"Month\")\n",
    "plt.ylabel(\"Total count\")"
   ]
  },
  {
   "cell_type": "code",
   "execution_count": 28,
   "metadata": {
    "colab": {
     "base_uri": "https://localhost:8080/",
     "height": 446
    },
    "id": "GlQWkPWydM1a",
    "outputId": "a6a6f2c3-b128-454b-f1e3-86e887bc6f37"
   },
   "outputs": [
    {
     "data": {
      "text/plain": [
       "Text(0, 0.5, 'Total count')"
      ]
     },
     "execution_count": 28,
     "metadata": {},
     "output_type": "execute_result"
    },
    {
     "data": {
      "image/png": "[encoded data removed]",
      "text/plain": [
       "<Figure size 720x360 with 1 Axes>"
      ]
     },
     "metadata": {
      "needs_background": "light"
     },
     "output_type": "display_data"
    }
   ],
   "source": [
    "#Bar plot to find the rides based on source of the destinations\n",
    "uberdata['source'].value_counts().plot(kind='bar', figsize=(10,5), cmap='Spectral')\n",
    "plt.xlabel(\"Source\")\n",
    "plt.ylabel(\"Total count\")"
   ]
  },
  {
   "cell_type": "code",
   "execution_count": 29,
   "metadata": {
    "colab": {
     "base_uri": "https://localhost:8080/",
     "height": 377
    },
    "id": "PoyZzStKdM1a",
    "outputId": "8847ae8b-c257-407e-e131-ddec1db6e925"
   },
   "outputs": [
    {
     "data": {
      "text/plain": [
       "Text(0, 0.5, 'Total count')"
      ]
     },
     "execution_count": 29,
     "metadata": {},
     "output_type": "execute_result"
    },
    {
     "data": {
      "image/png": "[encoded data removed]",
      "text/plain": [
       "<Figure size 720x360 with 1 Axes>"
      ]
     },
     "metadata": {
      "needs_background": "light"
     },
     "output_type": "display_data"
    }
   ],
   "source": [
    "#Bar plot to find the rides based on car type\n",
    "uberdata['name'].value_counts().plot(kind='bar', figsize=(10,5), cmap='magma')\n",
    "plt.xlabel(\"Name\")\n",
    "plt.ylabel(\"Total count\")"
   ]
  },
  {
   "cell_type": "code",
   "execution_count": 30,
   "metadata": {
    "colab": {
     "base_uri": "https://localhost:8080/",
     "height": 428
    },
    "id": "FnccWsNkdM1a",
    "outputId": "ad8758bb-c770-4be8-e4f3-d6b157a3c173"
   },
   "outputs": [
    {
     "data": {
      "text/plain": [
       "Text(0, 0.5, 'Total count')"
      ]
     },
     "execution_count": 30,
     "metadata": {},
     "output_type": "execute_result"
    },
    {
     "data": {
      "image/png": "[encoded data removed]",
      "text/plain": [
       "<Figure size 720x360 with 1 Axes>"
      ]
     },
     "metadata": {
      "needs_background": "light"
     },
     "output_type": "display_data"
    }
   ],
   "source": [
    "# based on the icon\n",
    "uberdata['icon'].value_counts().plot(kind='bar', figsize=(10,5), cmap='crest')\n",
    "plt.xlabel(\"Icon\")\n",
    "plt.ylabel(\"Total count\")"
   ]
  },
  {
   "cell_type": "code",
   "execution_count": 31,
   "metadata": {
    "colab": {
     "base_uri": "https://localhost:8080/",
     "height": 333
    },
    "id": "n_R2K2icdM1a",
    "outputId": "77116a09-5ab0-46c5-ca61-457ba1a4bbfd"
   },
   "outputs": [
    {
     "data": {
      "text/plain": [
       "Text(0, 0.5, 'Total count')"
      ]
     },
     "execution_count": 31,
     "metadata": {},
     "output_type": "execute_result"
    },
    {
     "data": {
      "image/png": "[encoded data removed]",
      "text/plain": [
       "<Figure size 720x360 with 1 Axes>"
      ]
     },
     "metadata": {
      "needs_background": "light"
     },
     "output_type": "display_data"
    }
   ],
   "source": [
    "uberdata['uvIndex'].value_counts().plot(kind='bar', figsize=(10,5), cmap='summer')\n",
    "plt.xlabel(\"uvIndex\")\n",
    "plt.ylabel(\"Total count\")"
   ]
  },
  {
   "cell_type": "code",
   "execution_count": 32,
   "metadata": {
    "colab": {
     "base_uri": "https://localhost:8080/",
     "height": 349
    },
    "id": "NuEyhvgadM1b",
    "outputId": "545c5871-a840-4dd4-e3d6-4a2c68d95810"
   },
   "outputs": [
    {
     "data": {
      "text/plain": [
       "Text(0, 0.5, 'Total count')"
      ]
     },
     "execution_count": 32,
     "metadata": {},
     "output_type": "execute_result"
    },
    {
     "data": {
      "image/png": "[encoded data removed]",
      "text/plain": [
       "<Figure size 720x360 with 1 Axes>"
      ]
     },
     "metadata": {
      "needs_background": "light"
     },
     "output_type": "display_data"
    }
   ],
   "source": [
    "#Total Count based on Moonphase\n",
    "uberdata['moonPhase'].value_counts().plot(kind='bar', figsize=(10,5), cmap='viridis')\n",
    "plt.xlabel(\"moonPhase\")\n",
    "plt.ylabel(\"Total count\")"
   ]
  },
  {
   "cell_type": "code",
   "execution_count": 33,
   "metadata": {
    "colab": {
     "base_uri": "https://localhost:8080/",
     "height": 349
    },
    "id": "br6awwc4dM1b",
    "outputId": "5abfb5a4-56ac-4af3-bd51-f812c6149143"
   },
   "outputs": [
    {
     "data": {
      "text/plain": [
       "<AxesSubplot:xlabel='precipProbability', ylabel='Total count'>"
      ]
     },
     "execution_count": 33,
     "metadata": {},
     "output_type": "execute_result"
    },
    {
     "data": {
      "image/png": "[encoded data removed]",
      "text/plain": [
       "<Figure size 720x360 with 1 Axes>"
      ]
     },
     "metadata": {
      "needs_background": "light"
     },
     "output_type": "display_data"
    }
   ],
   "source": [
    "#graph price probability vs total count\n",
    "plt.xlabel(\"precipProbability\")\n",
    "plt.ylabel(\"Total count\")\n",
    "uberdata['precipProbability'].value_counts().plot(kind='bar', figsize=(10,5), color='green')"
   ]
  },
  {
   "cell_type": "markdown",
   "metadata": {
    "id": "JXZS2rP2dM1b"
   },
   "source": [
    "### Label Encoding"
   ]
  },
  {
   "cell_type": "code",
   "execution_count": 34,
   "metadata": {
    "id": "jifvbsGzdM1b"
   },
   "outputs": [],
   "source": [
    "\n",
    "from sklearn import preprocessing \n",
    "label_encoder = preprocessing.LabelEncoder() "
   ]
  },
  {
   "cell_type": "code",
   "execution_count": 35,
   "metadata": {
    "colab": {
     "base_uri": "https://localhost:8080/"
    },
    "id": "1_sciw5SdM1b",
    "outputId": "34da9e9d-76b0-46b2-9b8b-76af0175e2a0"
   },
   "outputs": [
    {
     "data": {
      "text/plain": [
       "id                              object\n",
       "timestamp                      float64\n",
       "hour                             int64\n",
       "day                              int64\n",
       "month                            int64\n",
       "datetime                        object\n",
       "timezone                        object\n",
       "source                          object\n",
       "destination                     object\n",
       "cab_type                        object\n",
       "product_id                      object\n",
       "name                            object\n",
       "price                          float64\n",
       "distance                       float64\n",
       "surge_multiplier               float64\n",
       "latitude                       float64\n",
       "longitude                      float64\n",
       "temperature                    float64\n",
       "apparentTemperature            float64\n",
       "short_summary                   object\n",
       "long_summary                    object\n",
       "precipIntensity                float64\n",
       "precipProbability              float64\n",
       "humidity                       float64\n",
       "windSpeed                      float64\n",
       "windGust                       float64\n",
       "windGustTime                     int64\n",
       "visibility                     float64\n",
       "temperatureHigh                float64\n",
       "temperatureHighTime              int64\n",
       "temperatureLow                 float64\n",
       "temperatureLowTime               int64\n",
       "apparentTemperatureHigh        float64\n",
       "apparentTemperatureHighTime      int64\n",
       "apparentTemperatureLow         float64\n",
       "apparentTemperatureLowTime       int64\n",
       "icon                            object\n",
       "dewPoint                       float64\n",
       "pressure                       float64\n",
       "windBearing                      int64\n",
       "cloudCover                     float64\n",
       "uvIndex                          int64\n",
       "visibility.1                   float64\n",
       "ozone                          float64\n",
       "sunriseTime                      int64\n",
       "sunsetTime                       int64\n",
       "moonPhase                      float64\n",
       "precipIntensityMax             float64\n",
       "uvIndexTime                      int64\n",
       "temperatureMin                 float64\n",
       "temperatureMinTime               int64\n",
       "temperatureMax                 float64\n",
       "temperatureMaxTime               int64\n",
       "apparentTemperatureMin         float64\n",
       "apparentTemperatureMinTime       int64\n",
       "apparentTemperatureMax         float64\n",
       "apparentTemperatureMaxTime       int64\n",
       "dtype: object"
      ]
     },
     "execution_count": 35,
     "metadata": {},
     "output_type": "execute_result"
    }
   ],
   "source": [
    "uberdata.dtypes"
   ]
  },
  {
   "cell_type": "code",
   "execution_count": 36,
   "metadata": {},
   "outputs": [],
   "source": [
    "uberdata['id']= label_encoder.fit_transform(uberdata['id']) \n",
    "uberdata['datetime']= label_encoder.fit_transform(uberdata['datetime']) \n",
    "uberdata['timezone']= label_encoder.fit_transform(uberdata['timezone'])\n",
    "uberdata['destination']= label_encoder.fit_transform(uberdata['destination']) \n",
    "uberdata['product_id']= label_encoder.fit_transform(uberdata['product_id'])\n",
    "uberdata['short_summary']= label_encoder.fit_transform(uberdata['short_summary'])\n",
    "uberdata['long_summary']= label_encoder.fit_transform(uberdata['long_summary'])\n"
   ]
  },
  {
   "cell_type": "code",
   "execution_count": 37,
   "metadata": {},
   "outputs": [
    {
     "data": {
      "text/plain": [
       "array(['Lyft', 'Uber'], dtype=object)"
      ]
     },
     "execution_count": 37,
     "metadata": {},
     "output_type": "execute_result"
    }
   ],
   "source": [
    "uberdata['cab_type'].unique()"
   ]
  },
  {
   "cell_type": "code",
   "execution_count": 38,
   "metadata": {},
   "outputs": [
    {
     "name": "stdout",
     "output_type": "stream",
     "text": [
      "Class mapping of cab_type: \n",
      "Lyft --> 0\n",
      "Uber --> 1\n"
     ]
    }
   ],
   "source": [
    "uberdata['cab_type']= label_encoder.fit_transform(uberdata['cab_type'])\n",
    "\n",
    "print(\"Class mapping of cab_type: \")\n",
    "for i, item in enumerate(label_encoder.classes_):\n",
    "    print(item, \"-->\", i)"
   ]
  },
  {
   "cell_type": "code",
   "execution_count": 39,
   "metadata": {},
   "outputs": [
    {
     "name": "stdout",
     "output_type": "stream",
     "text": [
      "Class mapping of Name: \n",
      "Black --> 0\n",
      "Black SUV --> 1\n",
      "Lux --> 2\n",
      "Lux Black --> 3\n",
      "Lux Black XL --> 4\n",
      "Lyft --> 5\n",
      "Lyft XL --> 6\n",
      "Shared --> 7\n",
      "Taxi --> 8\n",
      "UberPool --> 9\n",
      "UberX --> 10\n",
      "UberXL --> 11\n",
      "WAV --> 12\n"
     ]
    }
   ],
   "source": [
    "uberdata['name']= label_encoder.fit_transform(uberdata['name'])\n",
    "\n",
    "print(\"Class mapping of Name: \")\n",
    "for i, item in enumerate(label_encoder.classes_):\n",
    "    print(item, \"-->\", i)"
   ]
  },
  {
   "cell_type": "code",
   "execution_count": 40,
   "metadata": {},
   "outputs": [
    {
     "name": "stdout",
     "output_type": "stream",
     "text": [
      "Class mapping of Source: \n",
      "Back Bay --> 0\n",
      "Beacon Hill --> 1\n",
      "Boston University --> 2\n",
      "Fenway --> 3\n",
      "Financial District --> 4\n",
      "Haymarket Square --> 5\n",
      "North End --> 6\n",
      "North Station --> 7\n",
      "Northeastern University --> 8\n",
      "South Station --> 9\n",
      "Theatre District --> 10\n",
      "West End --> 11\n"
     ]
    }
   ],
   "source": [
    "uberdata['source']= label_encoder.fit_transform(uberdata['source'])\n",
    "\n",
    "print(\"Class mapping of Source: \")\n",
    "for i, item in enumerate(label_encoder.classes_):\n",
    "    print(item, \"-->\", i)"
   ]
  },
  {
   "cell_type": "code",
   "execution_count": 41,
   "metadata": {
    "id": "z5JEPXQ9dM1b"
   },
   "outputs": [
    {
     "name": "stdout",
     "output_type": "stream",
     "text": [
      "Class mapping of Icon: \n",
      " clear-day  --> 0\n",
      " clear-night  --> 1\n",
      " cloudy  --> 2\n",
      " fog  --> 3\n",
      " partly-cloudy-day  --> 4\n",
      " partly-cloudy-night  --> 5\n",
      " rain  --> 6\n"
     ]
    }
   ],
   "source": [
    "uberdata['icon']= label_encoder.fit_transform(uberdata['icon'])\n",
    "\n",
    "print(\"Class mapping of Icon: \")\n",
    "for i, item in enumerate(label_encoder.classes_):\n",
    "    print(item, \"-->\", i)"
   ]
  },
  {
   "cell_type": "code",
   "execution_count": 42,
   "metadata": {
    "colab": {
     "base_uri": "https://localhost:8080/"
    },
    "id": "kFeWRoYTdM1c",
    "outputId": "ffa6fdd2-17d5-4d07-85d8-19bedff646a6"
   },
   "outputs": [
    {
     "data": {
      "text/plain": [
       "id                               int32\n",
       "timestamp                      float64\n",
       "hour                             int64\n",
       "day                              int64\n",
       "month                            int64\n",
       "datetime                         int32\n",
       "timezone                         int32\n",
       "source                           int32\n",
       "destination                      int32\n",
       "cab_type                         int32\n",
       "product_id                       int32\n",
       "name                             int32\n",
       "price                          float64\n",
       "distance                       float64\n",
       "surge_multiplier               float64\n",
       "latitude                       float64\n",
       "longitude                      float64\n",
       "temperature                    float64\n",
       "apparentTemperature            float64\n",
       "short_summary                    int32\n",
       "long_summary                     int32\n",
       "precipIntensity                float64\n",
       "precipProbability              float64\n",
       "humidity                       float64\n",
       "windSpeed                      float64\n",
       "windGust                       float64\n",
       "windGustTime                     int64\n",
       "visibility                     float64\n",
       "temperatureHigh                float64\n",
       "temperatureHighTime              int64\n",
       "temperatureLow                 float64\n",
       "temperatureLowTime               int64\n",
       "apparentTemperatureHigh        float64\n",
       "apparentTemperatureHighTime      int64\n",
       "apparentTemperatureLow         float64\n",
       "apparentTemperatureLowTime       int64\n",
       "icon                             int32\n",
       "dewPoint                       float64\n",
       "pressure                       float64\n",
       "windBearing                      int64\n",
       "cloudCover                     float64\n",
       "uvIndex                          int64\n",
       "visibility.1                   float64\n",
       "ozone                          float64\n",
       "sunriseTime                      int64\n",
       "sunsetTime                       int64\n",
       "moonPhase                      float64\n",
       "precipIntensityMax             float64\n",
       "uvIndexTime                      int64\n",
       "temperatureMin                 float64\n",
       "temperatureMinTime               int64\n",
       "temperatureMax                 float64\n",
       "temperatureMaxTime               int64\n",
       "apparentTemperatureMin         float64\n",
       "apparentTemperatureMinTime       int64\n",
       "apparentTemperatureMax         float64\n",
       "apparentTemperatureMaxTime       int64\n",
       "dtype: object"
      ]
     },
     "execution_count": 42,
     "metadata": {},
     "output_type": "execute_result"
    }
   ],
   "source": [
    "uberdata.dtypes"
   ]
  },
  {
   "cell_type": "code",
   "execution_count": 43,
   "metadata": {
    "colab": {
     "base_uri": "https://localhost:8080/",
     "height": 0
    },
    "id": "eZiAMOtUdM1c",
    "outputId": "440c921d-695e-4fa6-d081-27f65a8697ec"
   },
   "outputs": [
    {
     "data": {
      "text/html": [
       "<div>\n",
       "<style scoped>\n",
       "    .dataframe tbody tr th:only-of-type {\n",
       "        vertical-align: middle;\n",
       "    }\n",
       "\n",
       "    .dataframe tbody tr th {\n",
       "        vertical-align: top;\n",
       "    }\n",
       "\n",
       "    .dataframe thead th {\n",
       "        text-align: right;\n",
       "    }\n",
       "</style>\n",
       "<table border=\"1\" class=\"dataframe\">\n",
       "  <thead>\n",
       "    <tr style=\"text-align: right;\">\n",
       "      <th></th>\n",
       "      <th>id</th>\n",
       "      <th>timestamp</th>\n",
       "      <th>hour</th>\n",
       "      <th>day</th>\n",
       "      <th>month</th>\n",
       "      <th>datetime</th>\n",
       "      <th>timezone</th>\n",
       "      <th>source</th>\n",
       "      <th>destination</th>\n",
       "      <th>cab_type</th>\n",
       "      <th>...</th>\n",
       "      <th>precipIntensityMax</th>\n",
       "      <th>uvIndexTime</th>\n",
       "      <th>temperatureMin</th>\n",
       "      <th>temperatureMinTime</th>\n",
       "      <th>temperatureMax</th>\n",
       "      <th>temperatureMaxTime</th>\n",
       "      <th>apparentTemperatureMin</th>\n",
       "      <th>apparentTemperatureMinTime</th>\n",
       "      <th>apparentTemperatureMax</th>\n",
       "      <th>apparentTemperatureMaxTime</th>\n",
       "    </tr>\n",
       "  </thead>\n",
       "  <tbody>\n",
       "    <tr>\n",
       "      <th>0</th>\n",
       "      <td>179271</td>\n",
       "      <td>1.544953e+09</td>\n",
       "      <td>9</td>\n",
       "      <td>16</td>\n",
       "      <td>12</td>\n",
       "      <td>25351</td>\n",
       "      <td>0</td>\n",
       "      <td>5</td>\n",
       "      <td>7</td>\n",
       "      <td>0</td>\n",
       "      <td>...</td>\n",
       "      <td>0.1276</td>\n",
       "      <td>1544979600</td>\n",
       "      <td>39.89</td>\n",
       "      <td>1545012000</td>\n",
       "      <td>43.68</td>\n",
       "      <td>1544968800</td>\n",
       "      <td>33.73</td>\n",
       "      <td>1545012000</td>\n",
       "      <td>38.07</td>\n",
       "      <td>1544958000</td>\n",
       "    </tr>\n",
       "    <tr>\n",
       "      <th>1</th>\n",
       "      <td>205021</td>\n",
       "      <td>1.543284e+09</td>\n",
       "      <td>2</td>\n",
       "      <td>27</td>\n",
       "      <td>11</td>\n",
       "      <td>961</td>\n",
       "      <td>0</td>\n",
       "      <td>5</td>\n",
       "      <td>7</td>\n",
       "      <td>0</td>\n",
       "      <td>...</td>\n",
       "      <td>0.1300</td>\n",
       "      <td>1543251600</td>\n",
       "      <td>40.49</td>\n",
       "      <td>1543233600</td>\n",
       "      <td>47.30</td>\n",
       "      <td>1543251600</td>\n",
       "      <td>36.20</td>\n",
       "      <td>1543291200</td>\n",
       "      <td>43.92</td>\n",
       "      <td>1543251600</td>\n",
       "    </tr>\n",
       "    <tr>\n",
       "      <th>2</th>\n",
       "      <td>411506</td>\n",
       "      <td>1.543367e+09</td>\n",
       "      <td>1</td>\n",
       "      <td>28</td>\n",
       "      <td>11</td>\n",
       "      <td>2534</td>\n",
       "      <td>0</td>\n",
       "      <td>5</td>\n",
       "      <td>7</td>\n",
       "      <td>0</td>\n",
       "      <td>...</td>\n",
       "      <td>0.1064</td>\n",
       "      <td>1543338000</td>\n",
       "      <td>35.36</td>\n",
       "      <td>1543377600</td>\n",
       "      <td>47.55</td>\n",
       "      <td>1543320000</td>\n",
       "      <td>31.04</td>\n",
       "      <td>1543377600</td>\n",
       "      <td>44.12</td>\n",
       "      <td>1543320000</td>\n",
       "    </tr>\n",
       "    <tr>\n",
       "      <th>3</th>\n",
       "      <td>527263</td>\n",
       "      <td>1.543554e+09</td>\n",
       "      <td>4</td>\n",
       "      <td>30</td>\n",
       "      <td>11</td>\n",
       "      <td>6988</td>\n",
       "      <td>0</td>\n",
       "      <td>5</td>\n",
       "      <td>7</td>\n",
       "      <td>0</td>\n",
       "      <td>...</td>\n",
       "      <td>0.0000</td>\n",
       "      <td>1543507200</td>\n",
       "      <td>34.67</td>\n",
       "      <td>1543550400</td>\n",
       "      <td>45.03</td>\n",
       "      <td>1543510800</td>\n",
       "      <td>30.30</td>\n",
       "      <td>1543550400</td>\n",
       "      <td>38.53</td>\n",
       "      <td>1543510800</td>\n",
       "    </tr>\n",
       "    <tr>\n",
       "      <th>4</th>\n",
       "      <td>606526</td>\n",
       "      <td>1.543463e+09</td>\n",
       "      <td>3</td>\n",
       "      <td>29</td>\n",
       "      <td>11</td>\n",
       "      <td>4400</td>\n",
       "      <td>0</td>\n",
       "      <td>5</td>\n",
       "      <td>7</td>\n",
       "      <td>0</td>\n",
       "      <td>...</td>\n",
       "      <td>0.0001</td>\n",
       "      <td>1543420800</td>\n",
       "      <td>33.10</td>\n",
       "      <td>1543402800</td>\n",
       "      <td>42.18</td>\n",
       "      <td>1543420800</td>\n",
       "      <td>29.11</td>\n",
       "      <td>1543392000</td>\n",
       "      <td>35.75</td>\n",
       "      <td>1543420800</td>\n",
       "    </tr>\n",
       "  </tbody>\n",
       "</table>\n",
       "<p>5 rows × 57 columns</p>\n",
       "</div>"
      ],
      "text/plain": [
       "       id     timestamp  hour  day  month  datetime  timezone  source  \\\n",
       "0  179271  1.544953e+09     9   16     12     25351         0       5   \n",
       "1  205021  1.543284e+09     2   27     11       961         0       5   \n",
       "2  411506  1.543367e+09     1   28     11      2534         0       5   \n",
       "3  527263  1.543554e+09     4   30     11      6988         0       5   \n",
       "4  606526  1.543463e+09     3   29     11      4400         0       5   \n",
       "\n",
       "   destination  cab_type  ...  precipIntensityMax  uvIndexTime  \\\n",
       "0            7         0  ...              0.1276   1544979600   \n",
       "1            7         0  ...              0.1300   1543251600   \n",
       "2            7         0  ...              0.1064   1543338000   \n",
       "3            7         0  ...              0.0000   1543507200   \n",
       "4            7         0  ...              0.0001   1543420800   \n",
       "\n",
       "   temperatureMin  temperatureMinTime  temperatureMax  temperatureMaxTime  \\\n",
       "0           39.89          1545012000           43.68          1544968800   \n",
       "1           40.49          1543233600           47.30          1543251600   \n",
       "2           35.36          1543377600           47.55          1543320000   \n",
       "3           34.67          1543550400           45.03          1543510800   \n",
       "4           33.10          1543402800           42.18          1543420800   \n",
       "\n",
       "   apparentTemperatureMin  apparentTemperatureMinTime  apparentTemperatureMax  \\\n",
       "0                   33.73                  1545012000                   38.07   \n",
       "1                   36.20                  1543291200                   43.92   \n",
       "2                   31.04                  1543377600                   44.12   \n",
       "3                   30.30                  1543550400                   38.53   \n",
       "4                   29.11                  1543392000                   35.75   \n",
       "\n",
       "   apparentTemperatureMaxTime  \n",
       "0                  1544958000  \n",
       "1                  1543251600  \n",
       "2                  1543320000  \n",
       "3                  1543510800  \n",
       "4                  1543420800  \n",
       "\n",
       "[5 rows x 57 columns]"
      ]
     },
     "execution_count": 43,
     "metadata": {},
     "output_type": "execute_result"
    }
   ],
   "source": [
    "uberdata.head()"
   ]
  },
  {
   "cell_type": "markdown",
   "metadata": {
    "id": "p17aW6tHdM1c"
   },
   "source": [
    "### Filling Null Values"
   ]
  },
  {
   "cell_type": "code",
   "execution_count": 44,
   "metadata": {
    "colab": {
     "base_uri": "https://localhost:8080/"
    },
    "id": "2eeT-9fJdM1c",
    "outputId": "ebdba671-fbd4-4e70-b738-e50669732113"
   },
   "outputs": [
    {
     "data": {
      "text/plain": [
       "id                                 0\n",
       "timestamp                          0\n",
       "hour                               0\n",
       "day                                0\n",
       "month                              0\n",
       "datetime                           0\n",
       "timezone                           0\n",
       "source                             0\n",
       "destination                        0\n",
       "cab_type                           0\n",
       "product_id                         0\n",
       "name                               0\n",
       "price                          55095\n",
       "distance                           0\n",
       "surge_multiplier                   0\n",
       "latitude                           0\n",
       "longitude                          0\n",
       "temperature                        0\n",
       "apparentTemperature                0\n",
       "short_summary                      0\n",
       "long_summary                       0\n",
       "precipIntensity                    0\n",
       "precipProbability                  0\n",
       "humidity                           0\n",
       "windSpeed                          0\n",
       "windGust                           0\n",
       "windGustTime                       0\n",
       "visibility                         0\n",
       "temperatureHigh                    0\n",
       "temperatureHighTime                0\n",
       "temperatureLow                     0\n",
       "temperatureLowTime                 0\n",
       "apparentTemperatureHigh            0\n",
       "apparentTemperatureHighTime        0\n",
       "apparentTemperatureLow             0\n",
       "apparentTemperatureLowTime         0\n",
       "icon                               0\n",
       "dewPoint                           0\n",
       "pressure                           0\n",
       "windBearing                        0\n",
       "cloudCover                         0\n",
       "uvIndex                            0\n",
       "visibility.1                       0\n",
       "ozone                              0\n",
       "sunriseTime                        0\n",
       "sunsetTime                         0\n",
       "moonPhase                          0\n",
       "precipIntensityMax                 0\n",
       "uvIndexTime                        0\n",
       "temperatureMin                     0\n",
       "temperatureMinTime                 0\n",
       "temperatureMax                     0\n",
       "temperatureMaxTime                 0\n",
       "apparentTemperatureMin             0\n",
       "apparentTemperatureMinTime         0\n",
       "apparentTemperatureMax             0\n",
       "apparentTemperatureMaxTime         0\n",
       "dtype: int64"
      ]
     },
     "execution_count": 44,
     "metadata": {},
     "output_type": "execute_result"
    }
   ],
   "source": [
    "uberdata.isnull().sum()"
   ]
  },
  {
   "cell_type": "code",
   "execution_count": 45,
   "metadata": {
    "colab": {
     "base_uri": "https://localhost:8080/"
    },
    "id": "qS-MXbVKdM1c",
    "outputId": "13859e69-346c-4759-ee97-8207241af37b"
   },
   "outputs": [
    {
     "data": {
      "text/plain": [
       "13.5"
      ]
     },
     "execution_count": 45,
     "metadata": {},
     "output_type": "execute_result"
    }
   ],
   "source": [
    "uberdata['price'].median()"
   ]
  },
  {
   "cell_type": "code",
   "execution_count": 46,
   "metadata": {
    "id": "FA5TXwDqdM1d"
   },
   "outputs": [],
   "source": [
    "uberdata[\"price\"].fillna(10.5, inplace = True) "
   ]
  },
  {
   "cell_type": "code",
   "execution_count": 47,
   "metadata": {
    "colab": {
     "base_uri": "https://localhost:8080/"
    },
    "id": "mhBj24RTdM1d",
    "outputId": "0b9f7d6f-4cbb-4299-c91b-2f2e63691478"
   },
   "outputs": [
    {
     "data": {
      "text/plain": [
       "id                             0\n",
       "timestamp                      0\n",
       "hour                           0\n",
       "day                            0\n",
       "month                          0\n",
       "datetime                       0\n",
       "timezone                       0\n",
       "source                         0\n",
       "destination                    0\n",
       "cab_type                       0\n",
       "product_id                     0\n",
       "name                           0\n",
       "price                          0\n",
       "distance                       0\n",
       "surge_multiplier               0\n",
       "latitude                       0\n",
       "longitude                      0\n",
       "temperature                    0\n",
       "apparentTemperature            0\n",
       "short_summary                  0\n",
       "long_summary                   0\n",
       "precipIntensity                0\n",
       "precipProbability              0\n",
       "humidity                       0\n",
       "windSpeed                      0\n",
       "windGust                       0\n",
       "windGustTime                   0\n",
       "visibility                     0\n",
       "temperatureHigh                0\n",
       "temperatureHighTime            0\n",
       "temperatureLow                 0\n",
       "temperatureLowTime             0\n",
       "apparentTemperatureHigh        0\n",
       "apparentTemperatureHighTime    0\n",
       "apparentTemperatureLow         0\n",
       "apparentTemperatureLowTime     0\n",
       "icon                           0\n",
       "dewPoint                       0\n",
       "pressure                       0\n",
       "windBearing                    0\n",
       "cloudCover                     0\n",
       "uvIndex                        0\n",
       "visibility.1                   0\n",
       "ozone                          0\n",
       "sunriseTime                    0\n",
       "sunsetTime                     0\n",
       "moonPhase                      0\n",
       "precipIntensityMax             0\n",
       "uvIndexTime                    0\n",
       "temperatureMin                 0\n",
       "temperatureMinTime             0\n",
       "temperatureMax                 0\n",
       "temperatureMaxTime             0\n",
       "apparentTemperatureMin         0\n",
       "apparentTemperatureMinTime     0\n",
       "apparentTemperatureMax         0\n",
       "apparentTemperatureMaxTime     0\n",
       "dtype: int64"
      ]
     },
     "execution_count": 47,
     "metadata": {},
     "output_type": "execute_result"
    }
   ],
   "source": [
    "uberdata.isnull().sum()"
   ]
  },
  {
   "cell_type": "code",
   "execution_count": 48,
   "metadata": {},
   "outputs": [
    {
     "data": {
      "text/plain": [
       "dtype('float64')"
      ]
     },
     "execution_count": 48,
     "metadata": {},
     "output_type": "execute_result"
    }
   ],
   "source": [
    "uberdata['price'].dtype"
   ]
  },
  {
   "cell_type": "code",
   "execution_count": 49,
   "metadata": {},
   "outputs": [],
   "source": [
    "uberdata['price'] = uberdata['price'].astype(int)"
   ]
  },
  {
   "cell_type": "code",
   "execution_count": 50,
   "metadata": {},
   "outputs": [
    {
     "data": {
      "text/plain": [
       "0     5\n",
       "1    11\n",
       "2     7\n",
       "3    26\n",
       "4     9\n",
       "Name: price, dtype: int32"
      ]
     },
     "execution_count": 50,
     "metadata": {},
     "output_type": "execute_result"
    }
   ],
   "source": [
    "uberdata['price'].head()"
   ]
  },
  {
   "cell_type": "markdown",
   "metadata": {
    "id": "U5UVpEBndM1d"
   },
   "source": [
    "### RFE (Recursive Feature Elimination)"
   ]
  },
  {
   "cell_type": "code",
   "execution_count": 51,
   "metadata": {
    "id": "phS20dKJdM1d"
   },
   "outputs": [],
   "source": [
    "import numpy as np\n",
    "from sklearn.feature_selection import SelectKBest\n",
    "from sklearn.feature_selection import chi2"
   ]
  },
  {
   "cell_type": "code",
   "execution_count": 52,
   "metadata": {
    "id": "1Yq3zRhydM1d"
   },
   "outputs": [],
   "source": [
    "from sklearn.model_selection import train_test_split\n",
    "from sklearn.metrics import accuracy_score"
   ]
  },
  {
   "cell_type": "code",
   "execution_count": 53,
   "metadata": {
    "id": "VijCz7WxdM1d"
   },
   "outputs": [],
   "source": [
    "from sklearn.linear_model import LinearRegression\n",
    "from sklearn.linear_model import LogisticRegression\n",
    "from sklearn.tree import DecisionTreeRegressor\n",
    "from sklearn.ensemble import RandomForestRegressor"
   ]
  },
  {
   "cell_type": "code",
   "execution_count": 54,
   "metadata": {
    "id": "MFRqNu2hdM1k"
   },
   "outputs": [],
   "source": [
    "from sklearn.feature_selection import RFE"
   ]
  },
  {
   "cell_type": "code",
   "execution_count": 55,
   "metadata": {
    "id": "PKmO97t6dM1d"
   },
   "outputs": [],
   "source": [
    "X = uberdata.drop('price', axis = 1)\n",
    "y = uberdata['price']"
   ]
  },
  {
   "cell_type": "code",
   "execution_count": 56,
   "metadata": {
    "colab": {
     "base_uri": "https://localhost:8080/",
     "height": 422
    },
    "id": "ggSQPNlFdM1e",
    "outputId": "2f81fddb-9826-43f2-daee-0bd306516970"
   },
   "outputs": [
    {
     "data": {
      "text/html": [
       "<div>\n",
       "<style scoped>\n",
       "    .dataframe tbody tr th:only-of-type {\n",
       "        vertical-align: middle;\n",
       "    }\n",
       "\n",
       "    .dataframe tbody tr th {\n",
       "        vertical-align: top;\n",
       "    }\n",
       "\n",
       "    .dataframe thead th {\n",
       "        text-align: right;\n",
       "    }\n",
       "</style>\n",
       "<table border=\"1\" class=\"dataframe\">\n",
       "  <thead>\n",
       "    <tr style=\"text-align: right;\">\n",
       "      <th></th>\n",
       "      <th>id</th>\n",
       "      <th>timestamp</th>\n",
       "      <th>hour</th>\n",
       "      <th>day</th>\n",
       "      <th>month</th>\n",
       "      <th>datetime</th>\n",
       "      <th>timezone</th>\n",
       "      <th>source</th>\n",
       "      <th>destination</th>\n",
       "      <th>cab_type</th>\n",
       "      <th>...</th>\n",
       "      <th>precipIntensityMax</th>\n",
       "      <th>uvIndexTime</th>\n",
       "      <th>temperatureMin</th>\n",
       "      <th>temperatureMinTime</th>\n",
       "      <th>temperatureMax</th>\n",
       "      <th>temperatureMaxTime</th>\n",
       "      <th>apparentTemperatureMin</th>\n",
       "      <th>apparentTemperatureMinTime</th>\n",
       "      <th>apparentTemperatureMax</th>\n",
       "      <th>apparentTemperatureMaxTime</th>\n",
       "    </tr>\n",
       "  </thead>\n",
       "  <tbody>\n",
       "    <tr>\n",
       "      <th>0</th>\n",
       "      <td>179271</td>\n",
       "      <td>1.544953e+09</td>\n",
       "      <td>9</td>\n",
       "      <td>16</td>\n",
       "      <td>12</td>\n",
       "      <td>25351</td>\n",
       "      <td>0</td>\n",
       "      <td>5</td>\n",
       "      <td>7</td>\n",
       "      <td>0</td>\n",
       "      <td>...</td>\n",
       "      <td>0.1276</td>\n",
       "      <td>1544979600</td>\n",
       "      <td>39.89</td>\n",
       "      <td>1545012000</td>\n",
       "      <td>43.68</td>\n",
       "      <td>1544968800</td>\n",
       "      <td>33.73</td>\n",
       "      <td>1545012000</td>\n",
       "      <td>38.07</td>\n",
       "      <td>1544958000</td>\n",
       "    </tr>\n",
       "    <tr>\n",
       "      <th>1</th>\n",
       "      <td>205021</td>\n",
       "      <td>1.543284e+09</td>\n",
       "      <td>2</td>\n",
       "      <td>27</td>\n",
       "      <td>11</td>\n",
       "      <td>961</td>\n",
       "      <td>0</td>\n",
       "      <td>5</td>\n",
       "      <td>7</td>\n",
       "      <td>0</td>\n",
       "      <td>...</td>\n",
       "      <td>0.1300</td>\n",
       "      <td>1543251600</td>\n",
       "      <td>40.49</td>\n",
       "      <td>1543233600</td>\n",
       "      <td>47.30</td>\n",
       "      <td>1543251600</td>\n",
       "      <td>36.20</td>\n",
       "      <td>1543291200</td>\n",
       "      <td>43.92</td>\n",
       "      <td>1543251600</td>\n",
       "    </tr>\n",
       "    <tr>\n",
       "      <th>2</th>\n",
       "      <td>411506</td>\n",
       "      <td>1.543367e+09</td>\n",
       "      <td>1</td>\n",
       "      <td>28</td>\n",
       "      <td>11</td>\n",
       "      <td>2534</td>\n",
       "      <td>0</td>\n",
       "      <td>5</td>\n",
       "      <td>7</td>\n",
       "      <td>0</td>\n",
       "      <td>...</td>\n",
       "      <td>0.1064</td>\n",
       "      <td>1543338000</td>\n",
       "      <td>35.36</td>\n",
       "      <td>1543377600</td>\n",
       "      <td>47.55</td>\n",
       "      <td>1543320000</td>\n",
       "      <td>31.04</td>\n",
       "      <td>1543377600</td>\n",
       "      <td>44.12</td>\n",
       "      <td>1543320000</td>\n",
       "    </tr>\n",
       "    <tr>\n",
       "      <th>3</th>\n",
       "      <td>527263</td>\n",
       "      <td>1.543554e+09</td>\n",
       "      <td>4</td>\n",
       "      <td>30</td>\n",
       "      <td>11</td>\n",
       "      <td>6988</td>\n",
       "      <td>0</td>\n",
       "      <td>5</td>\n",
       "      <td>7</td>\n",
       "      <td>0</td>\n",
       "      <td>...</td>\n",
       "      <td>0.0000</td>\n",
       "      <td>1543507200</td>\n",
       "      <td>34.67</td>\n",
       "      <td>1543550400</td>\n",
       "      <td>45.03</td>\n",
       "      <td>1543510800</td>\n",
       "      <td>30.30</td>\n",
       "      <td>1543550400</td>\n",
       "      <td>38.53</td>\n",
       "      <td>1543510800</td>\n",
       "    </tr>\n",
       "    <tr>\n",
       "      <th>4</th>\n",
       "      <td>606526</td>\n",
       "      <td>1.543463e+09</td>\n",
       "      <td>3</td>\n",
       "      <td>29</td>\n",
       "      <td>11</td>\n",
       "      <td>4400</td>\n",
       "      <td>0</td>\n",
       "      <td>5</td>\n",
       "      <td>7</td>\n",
       "      <td>0</td>\n",
       "      <td>...</td>\n",
       "      <td>0.0001</td>\n",
       "      <td>1543420800</td>\n",
       "      <td>33.10</td>\n",
       "      <td>1543402800</td>\n",
       "      <td>42.18</td>\n",
       "      <td>1543420800</td>\n",
       "      <td>29.11</td>\n",
       "      <td>1543392000</td>\n",
       "      <td>35.75</td>\n",
       "      <td>1543420800</td>\n",
       "    </tr>\n",
       "  </tbody>\n",
       "</table>\n",
       "<p>5 rows × 56 columns</p>\n",
       "</div>"
      ],
      "text/plain": [
       "       id     timestamp  hour  day  month  datetime  timezone  source  \\\n",
       "0  179271  1.544953e+09     9   16     12     25351         0       5   \n",
       "1  205021  1.543284e+09     2   27     11       961         0       5   \n",
       "2  411506  1.543367e+09     1   28     11      2534         0       5   \n",
       "3  527263  1.543554e+09     4   30     11      6988         0       5   \n",
       "4  606526  1.543463e+09     3   29     11      4400         0       5   \n",
       "\n",
       "   destination  cab_type  ...  precipIntensityMax  uvIndexTime  \\\n",
       "0            7         0  ...              0.1276   1544979600   \n",
       "1            7         0  ...              0.1300   1543251600   \n",
       "2            7         0  ...              0.1064   1543338000   \n",
       "3            7         0  ...              0.0000   1543507200   \n",
       "4            7         0  ...              0.0001   1543420800   \n",
       "\n",
       "   temperatureMin  temperatureMinTime  temperatureMax  temperatureMaxTime  \\\n",
       "0           39.89          1545012000           43.68          1544968800   \n",
       "1           40.49          1543233600           47.30          1543251600   \n",
       "2           35.36          1543377600           47.55          1543320000   \n",
       "3           34.67          1543550400           45.03          1543510800   \n",
       "4           33.10          1543402800           42.18          1543420800   \n",
       "\n",
       "   apparentTemperatureMin  apparentTemperatureMinTime  apparentTemperatureMax  \\\n",
       "0                   33.73                  1545012000                   38.07   \n",
       "1                   36.20                  1543291200                   43.92   \n",
       "2                   31.04                  1543377600                   44.12   \n",
       "3                   30.30                  1543550400                   38.53   \n",
       "4                   29.11                  1543392000                   35.75   \n",
       "\n",
       "   apparentTemperatureMaxTime  \n",
       "0                  1544958000  \n",
       "1                  1543251600  \n",
       "2                  1543320000  \n",
       "3                  1543510800  \n",
       "4                  1543420800  \n",
       "\n",
       "[5 rows x 56 columns]"
      ]
     },
     "execution_count": 56,
     "metadata": {},
     "output_type": "execute_result"
    }
   ],
   "source": [
    "X.head()"
   ]
  },
  {
   "cell_type": "code",
   "execution_count": 57,
   "metadata": {
    "colab": {
     "base_uri": "https://localhost:8080/"
    },
    "id": "fGI0HiS7dM1e",
    "outputId": "078dba9d-23af-4867-9433-3aef975707a3"
   },
   "outputs": [
    {
     "data": {
      "text/plain": [
       "0     5\n",
       "1    11\n",
       "2     7\n",
       "3    26\n",
       "4     9\n",
       "Name: price, dtype: int32"
      ]
     },
     "execution_count": 57,
     "metadata": {},
     "output_type": "execute_result"
    }
   ],
   "source": [
    "y.head()"
   ]
  },
  {
   "cell_type": "code",
   "execution_count": 58,
   "metadata": {
    "colab": {
     "base_uri": "https://localhost:8080/"
    },
    "id": "USgYIlhUdM1e",
    "outputId": "34e5f7ac-dc83-4ca8-bc7a-762a1861742f"
   },
   "outputs": [
    {
     "data": {
      "text/plain": [
       "(693071, 56)"
      ]
     },
     "execution_count": 58,
     "metadata": {},
     "output_type": "execute_result"
    }
   ],
   "source": [
    "X.shape"
   ]
  },
  {
   "cell_type": "code",
   "execution_count": 59,
   "metadata": {
    "colab": {
     "base_uri": "https://localhost:8080/"
    },
    "id": "iaHGgGuRdM1e",
    "outputId": "12f00315-7b5d-4eca-e4b8-42080357981a"
   },
   "outputs": [
    {
     "data": {
      "text/plain": [
       "(693071,)"
      ]
     },
     "execution_count": 59,
     "metadata": {},
     "output_type": "execute_result"
    }
   ],
   "source": [
    "y.shape"
   ]
  },
  {
   "cell_type": "code",
   "execution_count": 60,
   "metadata": {
    "colab": {
     "base_uri": "https://localhost:8080/",
     "height": 426
    },
    "id": "fb_OfkjxdM1f",
    "outputId": "4ed0eee7-fe13-4aed-afe8-7dd888733bd6"
   },
   "outputs": [
    {
     "data": {
      "text/plain": [
       "Text(0, 0.5, 'Total count')"
      ]
     },
     "execution_count": 60,
     "metadata": {},
     "output_type": "execute_result"
    },
    {
     "data": {
      "image/png": "[encoded data removed]",
      "text/plain": [
       "<Figure size 2160x576 with 1 Axes>"
      ]
     },
     "metadata": {
      "needs_background": "light"
     },
     "output_type": "display_data"
    }
   ],
   "source": [
    "y.value_counts().plot(kind='bar',figsize=(30,8),color='purple')\n",
    "plt.xlabel(\"Features\")\n",
    "plt.ylabel(\"Total count\")"
   ]
  },
  {
   "cell_type": "markdown",
   "metadata": {
    "id": "VnOoeBJBdM1h"
   },
   "source": [
    "#### Training accuracy in 56 features"
   ]
  },
  {
   "cell_type": "code",
   "execution_count": 61,
   "metadata": {
    "id": "8jbdiPe6dM1h"
   },
   "outputs": [],
   "source": [
    "X_train, X_test, y_train, y_test = train_test_split(X, y, test_size = 0.2, random_state = 42)"
   ]
  },
  {
   "cell_type": "code",
   "execution_count": 62,
   "metadata": {
    "colab": {
     "base_uri": "https://localhost:8080/"
    },
    "id": "ZUBi6xh2dM1i",
    "outputId": "70c00aa2-7923-4b89-aabb-bb5ef98fe14d"
   },
   "outputs": [
    {
     "data": {
      "text/plain": [
       "(554456, 56)"
      ]
     },
     "execution_count": 62,
     "metadata": {},
     "output_type": "execute_result"
    }
   ],
   "source": [
    "X_train.shape"
   ]
  },
  {
   "cell_type": "code",
   "execution_count": 63,
   "metadata": {
    "colab": {
     "base_uri": "https://localhost:8080/"
    },
    "id": "HPf6X636dM1i",
    "outputId": "7bae348e-82f1-494b-ea51-23ae6ce48533"
   },
   "outputs": [
    {
     "data": {
      "text/plain": [
       "(138615, 56)"
      ]
     },
     "execution_count": 63,
     "metadata": {},
     "output_type": "execute_result"
    }
   ],
   "source": [
    "X_test.shape"
   ]
  },
  {
   "cell_type": "code",
   "execution_count": 64,
   "metadata": {
    "colab": {
     "base_uri": "https://localhost:8080/"
    },
    "id": "PXsH6kstdM1i",
    "outputId": "d5726e98-f787-4730-e7e4-5eb33a5f9bc8"
   },
   "outputs": [
    {
     "data": {
      "text/plain": [
       "(554456,)"
      ]
     },
     "execution_count": 64,
     "metadata": {},
     "output_type": "execute_result"
    }
   ],
   "source": [
    "y_train.shape"
   ]
  },
  {
   "cell_type": "code",
   "execution_count": 65,
   "metadata": {
    "colab": {
     "base_uri": "https://localhost:8080/"
    },
    "id": "z6PjvSAodM1i",
    "outputId": "3a761646-07e9-444b-dff2-eee73f827724"
   },
   "outputs": [
    {
     "data": {
      "text/plain": [
       "(138615,)"
      ]
     },
     "execution_count": 65,
     "metadata": {},
     "output_type": "execute_result"
    }
   ],
   "source": [
    "y_test.shape"
   ]
  },
  {
   "cell_type": "code",
   "execution_count": 66,
   "metadata": {
    "id": "QDXhk-s4dM1j"
   },
   "outputs": [],
   "source": [
    "#Creating model\n",
    "reg = LinearRegression()\n",
    "#Fitting training data\n",
    "reg = reg.fit(X_train, y_train)"
   ]
  },
  {
   "cell_type": "code",
   "execution_count": 67,
   "metadata": {
    "colab": {
     "base_uri": "https://localhost:8080/"
    },
    "id": "emmuRAZXuaUe",
    "outputId": "8b8cb52b-295b-4adb-9047-ba50fbb4b29a"
   },
   "outputs": [
    {
     "data": {
      "text/plain": [
       "0.5210613019979404"
      ]
     },
     "execution_count": 67,
     "metadata": {},
     "output_type": "execute_result"
    }
   ],
   "source": [
    "reg.score(X_train, y_train)"
   ]
  },
  {
   "cell_type": "markdown",
   "metadata": {
    "id": "NQfX7mOJdM1k"
   },
   "source": [
    "#### Training accuracy in 40 features"
   ]
  },
  {
   "cell_type": "code",
   "execution_count": 68,
   "metadata": {
    "colab": {
     "base_uri": "https://localhost:8080/"
    },
    "id": "PwJBW2TSdM1k",
    "outputId": "422fd599-5a54-4a6b-c843-8c6c2e95d2d9"
   },
   "outputs": [
    {
     "name": "stderr",
     "output_type": "stream",
     "text": [
      "C:\\Users\\Pratik\\anaconda3\\lib\\site-packages\\sklearn\\utils\\validation.py:70: FutureWarning: Pass n_features_to_select=40 as keyword args. From version 1.0 (renaming of 0.25) passing these as positional arguments will result in an error\n",
      "  warnings.warn(f\"Pass {args_msg} as keyword args. From version \"\n"
     ]
    },
    {
     "name": "stdout",
     "output_type": "stream",
     "text": [
      "Fitting estimator with 56 features.\n",
      "Fitting estimator with 55 features.\n",
      "Fitting estimator with 54 features.\n",
      "Fitting estimator with 53 features.\n",
      "Fitting estimator with 52 features.\n",
      "Fitting estimator with 51 features.\n",
      "Fitting estimator with 50 features.\n",
      "Fitting estimator with 49 features.\n",
      "Fitting estimator with 48 features.\n",
      "Fitting estimator with 47 features.\n",
      "Fitting estimator with 46 features.\n",
      "Fitting estimator with 45 features.\n",
      "Fitting estimator with 44 features.\n",
      "Fitting estimator with 43 features.\n",
      "Fitting estimator with 42 features.\n",
      "Fitting estimator with 41 features.\n"
     ]
    }
   ],
   "source": [
    "rfe = RFE(reg, 40, verbose=1)\n",
    "rfe = rfe.fit(X, y)"
   ]
  },
  {
   "cell_type": "code",
   "execution_count": 69,
   "metadata": {
    "colab": {
     "base_uri": "https://localhost:8080/"
    },
    "id": "iAmcmLvbdM1l",
    "outputId": "75f6b5bc-71d9-4709-99d1-9632d43dfd33"
   },
   "outputs": [
    {
     "data": {
      "text/plain": [
       "array([False, False,  True,  True,  True, False, False,  True,  True,\n",
       "        True,  True,  True,  True,  True,  True,  True,  True,  True,\n",
       "       False,  True,  True,  True,  True,  True,  True, False,  True,\n",
       "        True, False,  True, False,  True, False,  True, False,  True,\n",
       "        True,  True, False,  True,  True,  True,  True,  True,  True,\n",
       "        True,  True, False,  True, False,  True, False,  True, False,\n",
       "        True, False])"
      ]
     },
     "execution_count": 69,
     "metadata": {},
     "output_type": "execute_result"
    }
   ],
   "source": [
    "rfe.support_"
   ]
  },
  {
   "cell_type": "code",
   "execution_count": 70,
   "metadata": {
    "id": "OCLPpCOJdM1l"
   },
   "outputs": [],
   "source": [
    "XXfinal = X[X.columns[rfe.support_]]"
   ]
  },
  {
   "cell_type": "code",
   "execution_count": 71,
   "metadata": {
    "colab": {
     "base_uri": "https://localhost:8080/",
     "height": 215
    },
    "id": "3aj1xRtHdM1l",
    "outputId": "ac089cc8-84f5-4e54-a98c-2cf276515f12"
   },
   "outputs": [
    {
     "data": {
      "text/html": [
       "<div>\n",
       "<style scoped>\n",
       "    .dataframe tbody tr th:only-of-type {\n",
       "        vertical-align: middle;\n",
       "    }\n",
       "\n",
       "    .dataframe tbody tr th {\n",
       "        vertical-align: top;\n",
       "    }\n",
       "\n",
       "    .dataframe thead th {\n",
       "        text-align: right;\n",
       "    }\n",
       "</style>\n",
       "<table border=\"1\" class=\"dataframe\">\n",
       "  <thead>\n",
       "    <tr style=\"text-align: right;\">\n",
       "      <th></th>\n",
       "      <th>hour</th>\n",
       "      <th>day</th>\n",
       "      <th>month</th>\n",
       "      <th>source</th>\n",
       "      <th>destination</th>\n",
       "      <th>cab_type</th>\n",
       "      <th>product_id</th>\n",
       "      <th>name</th>\n",
       "      <th>distance</th>\n",
       "      <th>surge_multiplier</th>\n",
       "      <th>...</th>\n",
       "      <th>visibility.1</th>\n",
       "      <th>ozone</th>\n",
       "      <th>sunriseTime</th>\n",
       "      <th>sunsetTime</th>\n",
       "      <th>moonPhase</th>\n",
       "      <th>precipIntensityMax</th>\n",
       "      <th>temperatureMin</th>\n",
       "      <th>temperatureMax</th>\n",
       "      <th>apparentTemperatureMin</th>\n",
       "      <th>apparentTemperatureMax</th>\n",
       "    </tr>\n",
       "  </thead>\n",
       "  <tbody>\n",
       "    <tr>\n",
       "      <th>0</th>\n",
       "      <td>9</td>\n",
       "      <td>16</td>\n",
       "      <td>12</td>\n",
       "      <td>5</td>\n",
       "      <td>7</td>\n",
       "      <td>0</td>\n",
       "      <td>8</td>\n",
       "      <td>7</td>\n",
       "      <td>0.44</td>\n",
       "      <td>1.0</td>\n",
       "      <td>...</td>\n",
       "      <td>10.000</td>\n",
       "      <td>303.8</td>\n",
       "      <td>1544962084</td>\n",
       "      <td>1544994864</td>\n",
       "      <td>0.30</td>\n",
       "      <td>0.1276</td>\n",
       "      <td>39.89</td>\n",
       "      <td>43.68</td>\n",
       "      <td>33.73</td>\n",
       "      <td>38.07</td>\n",
       "    </tr>\n",
       "    <tr>\n",
       "      <th>1</th>\n",
       "      <td>2</td>\n",
       "      <td>27</td>\n",
       "      <td>11</td>\n",
       "      <td>5</td>\n",
       "      <td>7</td>\n",
       "      <td>0</td>\n",
       "      <td>12</td>\n",
       "      <td>2</td>\n",
       "      <td>0.44</td>\n",
       "      <td>1.0</td>\n",
       "      <td>...</td>\n",
       "      <td>4.786</td>\n",
       "      <td>291.1</td>\n",
       "      <td>1543232969</td>\n",
       "      <td>1543266992</td>\n",
       "      <td>0.64</td>\n",
       "      <td>0.1300</td>\n",
       "      <td>40.49</td>\n",
       "      <td>47.30</td>\n",
       "      <td>36.20</td>\n",
       "      <td>43.92</td>\n",
       "    </tr>\n",
       "    <tr>\n",
       "      <th>2</th>\n",
       "      <td>1</td>\n",
       "      <td>28</td>\n",
       "      <td>11</td>\n",
       "      <td>5</td>\n",
       "      <td>7</td>\n",
       "      <td>0</td>\n",
       "      <td>7</td>\n",
       "      <td>5</td>\n",
       "      <td>0.44</td>\n",
       "      <td>1.0</td>\n",
       "      <td>...</td>\n",
       "      <td>10.000</td>\n",
       "      <td>315.7</td>\n",
       "      <td>1543319437</td>\n",
       "      <td>1543353364</td>\n",
       "      <td>0.68</td>\n",
       "      <td>0.1064</td>\n",
       "      <td>35.36</td>\n",
       "      <td>47.55</td>\n",
       "      <td>31.04</td>\n",
       "      <td>44.12</td>\n",
       "    </tr>\n",
       "    <tr>\n",
       "      <th>3</th>\n",
       "      <td>4</td>\n",
       "      <td>30</td>\n",
       "      <td>11</td>\n",
       "      <td>5</td>\n",
       "      <td>7</td>\n",
       "      <td>0</td>\n",
       "      <td>10</td>\n",
       "      <td>4</td>\n",
       "      <td>0.44</td>\n",
       "      <td>1.0</td>\n",
       "      <td>...</td>\n",
       "      <td>10.000</td>\n",
       "      <td>291.1</td>\n",
       "      <td>1543492370</td>\n",
       "      <td>1543526114</td>\n",
       "      <td>0.75</td>\n",
       "      <td>0.0000</td>\n",
       "      <td>34.67</td>\n",
       "      <td>45.03</td>\n",
       "      <td>30.30</td>\n",
       "      <td>38.53</td>\n",
       "    </tr>\n",
       "    <tr>\n",
       "      <th>4</th>\n",
       "      <td>3</td>\n",
       "      <td>29</td>\n",
       "      <td>11</td>\n",
       "      <td>5</td>\n",
       "      <td>7</td>\n",
       "      <td>0</td>\n",
       "      <td>11</td>\n",
       "      <td>6</td>\n",
       "      <td>0.44</td>\n",
       "      <td>1.0</td>\n",
       "      <td>...</td>\n",
       "      <td>10.000</td>\n",
       "      <td>347.7</td>\n",
       "      <td>1543405904</td>\n",
       "      <td>1543439738</td>\n",
       "      <td>0.72</td>\n",
       "      <td>0.0001</td>\n",
       "      <td>33.10</td>\n",
       "      <td>42.18</td>\n",
       "      <td>29.11</td>\n",
       "      <td>35.75</td>\n",
       "    </tr>\n",
       "  </tbody>\n",
       "</table>\n",
       "<p>5 rows × 40 columns</p>\n",
       "</div>"
      ],
      "text/plain": [
       "   hour  day  month  source  destination  cab_type  product_id  name  \\\n",
       "0     9   16     12       5            7         0           8     7   \n",
       "1     2   27     11       5            7         0          12     2   \n",
       "2     1   28     11       5            7         0           7     5   \n",
       "3     4   30     11       5            7         0          10     4   \n",
       "4     3   29     11       5            7         0          11     6   \n",
       "\n",
       "   distance  surge_multiplier  ...  visibility.1  ozone  sunriseTime  \\\n",
       "0      0.44               1.0  ...        10.000  303.8   1544962084   \n",
       "1      0.44               1.0  ...         4.786  291.1   1543232969   \n",
       "2      0.44               1.0  ...        10.000  315.7   1543319437   \n",
       "3      0.44               1.0  ...        10.000  291.1   1543492370   \n",
       "4      0.44               1.0  ...        10.000  347.7   1543405904   \n",
       "\n",
       "   sunsetTime  moonPhase  precipIntensityMax  temperatureMin  temperatureMax  \\\n",
       "0  1544994864       0.30              0.1276           39.89           43.68   \n",
       "1  1543266992       0.64              0.1300           40.49           47.30   \n",
       "2  1543353364       0.68              0.1064           35.36           47.55   \n",
       "3  1543526114       0.75              0.0000           34.67           45.03   \n",
       "4  1543439738       0.72              0.0001           33.10           42.18   \n",
       "\n",
       "   apparentTemperatureMin  apparentTemperatureMax  \n",
       "0                   33.73                   38.07  \n",
       "1                   36.20                   43.92  \n",
       "2                   31.04                   44.12  \n",
       "3                   30.30                   38.53  \n",
       "4                   29.11                   35.75  \n",
       "\n",
       "[5 rows x 40 columns]"
      ]
     },
     "execution_count": 71,
     "metadata": {},
     "output_type": "execute_result"
    }
   ],
   "source": [
    "#Final Dateset after preprocessing \n",
    "XXfinal.head()"
   ]
  },
  {
   "cell_type": "code",
   "execution_count": 72,
   "metadata": {
    "id": "c2kjryu8dM1m"
   },
   "outputs": [],
   "source": [
    "#Splitting the final data set into test and train\n",
    "X_train, X_test, y_train, y_test = train_test_split(XXfinal, y, test_size = 0.3, random_state = 10)"
   ]
  },
  {
   "cell_type": "code",
   "execution_count": 73,
   "metadata": {
    "colab": {
     "base_uri": "https://localhost:8080/"
    },
    "id": "UuoCsIBedM1m",
    "outputId": "fcaf0214-08ce-40aa-9630-951010c47453"
   },
   "outputs": [
    {
     "data": {
      "text/plain": [
       "(485149, 40)"
      ]
     },
     "execution_count": 73,
     "metadata": {},
     "output_type": "execute_result"
    }
   ],
   "source": [
    "X_train.shape"
   ]
  },
  {
   "cell_type": "code",
   "execution_count": 74,
   "metadata": {
    "id": "bGrDwcGGdM1n"
   },
   "outputs": [],
   "source": [
    "#Creating model\n",
    "reg1 = LinearRegression()\n",
    "#Fitting training data\n",
    "reg1 = reg1.fit(X_train, y_train)"
   ]
  },
  {
   "cell_type": "code",
   "execution_count": 75,
   "metadata": {
    "colab": {
     "base_uri": "https://localhost:8080/"
    },
    "id": "7FBGsIIHuzQN",
    "outputId": "32071a61-ed39-45b1-f04c-d8fd236074e7"
   },
   "outputs": [
    {
     "data": {
      "text/plain": [
       "0.5208213396761847"
      ]
     },
     "execution_count": 75,
     "metadata": {},
     "output_type": "execute_result"
    }
   ],
   "source": [
    "reg1.score(X_train, y_train)"
   ]
  },
  {
   "cell_type": "markdown",
   "metadata": {
    "id": "Mh22ZUP-dM1q"
   },
   "source": [
    "#### Training accuracy in 15 features"
   ]
  },
  {
   "cell_type": "code",
   "execution_count": 76,
   "metadata": {
    "colab": {
     "base_uri": "https://localhost:8080/"
    },
    "id": "vYWk7nzQdM1q",
    "outputId": "78f77ee1-d3fa-44b4-88de-5df5632be224"
   },
   "outputs": [
    {
     "name": "stderr",
     "output_type": "stream",
     "text": [
      "C:\\Users\\Pratik\\anaconda3\\lib\\site-packages\\sklearn\\utils\\validation.py:70: FutureWarning: Pass n_features_to_select=15 as keyword args. From version 1.0 (renaming of 0.25) passing these as positional arguments will result in an error\n",
      "  warnings.warn(f\"Pass {args_msg} as keyword args. From version \"\n"
     ]
    },
    {
     "name": "stdout",
     "output_type": "stream",
     "text": [
      "Fitting estimator with 56 features.\n",
      "Fitting estimator with 55 features.\n",
      "Fitting estimator with 54 features.\n",
      "Fitting estimator with 53 features.\n",
      "Fitting estimator with 52 features.\n",
      "Fitting estimator with 51 features.\n",
      "Fitting estimator with 50 features.\n",
      "Fitting estimator with 49 features.\n",
      "Fitting estimator with 48 features.\n",
      "Fitting estimator with 47 features.\n",
      "Fitting estimator with 46 features.\n",
      "Fitting estimator with 45 features.\n",
      "Fitting estimator with 44 features.\n",
      "Fitting estimator with 43 features.\n",
      "Fitting estimator with 42 features.\n",
      "Fitting estimator with 41 features.\n",
      "Fitting estimator with 40 features.\n",
      "Fitting estimator with 39 features.\n",
      "Fitting estimator with 38 features.\n",
      "Fitting estimator with 37 features.\n",
      "Fitting estimator with 36 features.\n",
      "Fitting estimator with 35 features.\n",
      "Fitting estimator with 34 features.\n",
      "Fitting estimator with 33 features.\n",
      "Fitting estimator with 32 features.\n",
      "Fitting estimator with 31 features.\n",
      "Fitting estimator with 30 features.\n",
      "Fitting estimator with 29 features.\n",
      "Fitting estimator with 28 features.\n",
      "Fitting estimator with 27 features.\n",
      "Fitting estimator with 26 features.\n",
      "Fitting estimator with 25 features.\n",
      "Fitting estimator with 24 features.\n",
      "Fitting estimator with 23 features.\n",
      "Fitting estimator with 22 features.\n",
      "Fitting estimator with 21 features.\n",
      "Fitting estimator with 20 features.\n",
      "Fitting estimator with 19 features.\n",
      "Fitting estimator with 18 features.\n",
      "Fitting estimator with 17 features.\n",
      "Fitting estimator with 16 features.\n"
     ]
    }
   ],
   "source": [
    "rfe = RFE(reg, 15, verbose=1)\n",
    "rfe = rfe.fit(X, y)"
   ]
  },
  {
   "cell_type": "code",
   "execution_count": 77,
   "metadata": {
    "id": "m8ui7o4RdM1r"
   },
   "outputs": [],
   "source": [
    "XXfinal = X[X.columns[rfe.support_]]"
   ]
  },
  {
   "cell_type": "code",
   "execution_count": 78,
   "metadata": {
    "colab": {
     "base_uri": "https://localhost:8080/",
     "height": 215
    },
    "id": "DhzD1Ef4dM1r",
    "outputId": "ca44d44f-1300-4e46-bfed-2e34010833ce"
   },
   "outputs": [
    {
     "data": {
      "text/html": [
       "<div>\n",
       "<style scoped>\n",
       "    .dataframe tbody tr th:only-of-type {\n",
       "        vertical-align: middle;\n",
       "    }\n",
       "\n",
       "    .dataframe tbody tr th {\n",
       "        vertical-align: top;\n",
       "    }\n",
       "\n",
       "    .dataframe thead th {\n",
       "        text-align: right;\n",
       "    }\n",
       "</style>\n",
       "<table border=\"1\" class=\"dataframe\">\n",
       "  <thead>\n",
       "    <tr style=\"text-align: right;\">\n",
       "      <th></th>\n",
       "      <th>source</th>\n",
       "      <th>cab_type</th>\n",
       "      <th>product_id</th>\n",
       "      <th>name</th>\n",
       "      <th>distance</th>\n",
       "      <th>surge_multiplier</th>\n",
       "      <th>latitude</th>\n",
       "      <th>longitude</th>\n",
       "      <th>precipIntensity</th>\n",
       "      <th>humidity</th>\n",
       "      <th>temperatureHigh</th>\n",
       "      <th>apparentTemperatureHigh</th>\n",
       "      <th>dewPoint</th>\n",
       "      <th>temperatureMax</th>\n",
       "      <th>apparentTemperatureMax</th>\n",
       "    </tr>\n",
       "  </thead>\n",
       "  <tbody>\n",
       "    <tr>\n",
       "      <th>0</th>\n",
       "      <td>5</td>\n",
       "      <td>0</td>\n",
       "      <td>8</td>\n",
       "      <td>7</td>\n",
       "      <td>0.44</td>\n",
       "      <td>1.0</td>\n",
       "      <td>42.2148</td>\n",
       "      <td>-71.033</td>\n",
       "      <td>0.0000</td>\n",
       "      <td>0.68</td>\n",
       "      <td>43.68</td>\n",
       "      <td>37.95</td>\n",
       "      <td>32.70</td>\n",
       "      <td>43.68</td>\n",
       "      <td>38.07</td>\n",
       "    </tr>\n",
       "    <tr>\n",
       "      <th>1</th>\n",
       "      <td>5</td>\n",
       "      <td>0</td>\n",
       "      <td>12</td>\n",
       "      <td>2</td>\n",
       "      <td>0.44</td>\n",
       "      <td>1.0</td>\n",
       "      <td>42.2148</td>\n",
       "      <td>-71.033</td>\n",
       "      <td>0.1299</td>\n",
       "      <td>0.94</td>\n",
       "      <td>47.30</td>\n",
       "      <td>43.92</td>\n",
       "      <td>41.83</td>\n",
       "      <td>47.30</td>\n",
       "      <td>43.92</td>\n",
       "    </tr>\n",
       "    <tr>\n",
       "      <th>2</th>\n",
       "      <td>5</td>\n",
       "      <td>0</td>\n",
       "      <td>7</td>\n",
       "      <td>5</td>\n",
       "      <td>0.44</td>\n",
       "      <td>1.0</td>\n",
       "      <td>42.2148</td>\n",
       "      <td>-71.033</td>\n",
       "      <td>0.0000</td>\n",
       "      <td>0.75</td>\n",
       "      <td>47.55</td>\n",
       "      <td>44.12</td>\n",
       "      <td>31.10</td>\n",
       "      <td>47.55</td>\n",
       "      <td>44.12</td>\n",
       "    </tr>\n",
       "    <tr>\n",
       "      <th>3</th>\n",
       "      <td>5</td>\n",
       "      <td>0</td>\n",
       "      <td>10</td>\n",
       "      <td>4</td>\n",
       "      <td>0.44</td>\n",
       "      <td>1.0</td>\n",
       "      <td>42.2148</td>\n",
       "      <td>-71.033</td>\n",
       "      <td>0.0000</td>\n",
       "      <td>0.73</td>\n",
       "      <td>45.03</td>\n",
       "      <td>38.53</td>\n",
       "      <td>26.64</td>\n",
       "      <td>45.03</td>\n",
       "      <td>38.53</td>\n",
       "    </tr>\n",
       "    <tr>\n",
       "      <th>4</th>\n",
       "      <td>5</td>\n",
       "      <td>0</td>\n",
       "      <td>11</td>\n",
       "      <td>6</td>\n",
       "      <td>0.44</td>\n",
       "      <td>1.0</td>\n",
       "      <td>42.2148</td>\n",
       "      <td>-71.033</td>\n",
       "      <td>0.0000</td>\n",
       "      <td>0.70</td>\n",
       "      <td>42.18</td>\n",
       "      <td>35.75</td>\n",
       "      <td>28.61</td>\n",
       "      <td>42.18</td>\n",
       "      <td>35.75</td>\n",
       "    </tr>\n",
       "  </tbody>\n",
       "</table>\n",
       "</div>"
      ],
      "text/plain": [
       "   source  cab_type  product_id  name  distance  surge_multiplier  latitude  \\\n",
       "0       5         0           8     7      0.44               1.0   42.2148   \n",
       "1       5         0          12     2      0.44               1.0   42.2148   \n",
       "2       5         0           7     5      0.44               1.0   42.2148   \n",
       "3       5         0          10     4      0.44               1.0   42.2148   \n",
       "4       5         0          11     6      0.44               1.0   42.2148   \n",
       "\n",
       "   longitude  precipIntensity  humidity  temperatureHigh  \\\n",
       "0    -71.033           0.0000      0.68            43.68   \n",
       "1    -71.033           0.1299      0.94            47.30   \n",
       "2    -71.033           0.0000      0.75            47.55   \n",
       "3    -71.033           0.0000      0.73            45.03   \n",
       "4    -71.033           0.0000      0.70            42.18   \n",
       "\n",
       "   apparentTemperatureHigh  dewPoint  temperatureMax  apparentTemperatureMax  \n",
       "0                    37.95     32.70           43.68                   38.07  \n",
       "1                    43.92     41.83           47.30                   43.92  \n",
       "2                    44.12     31.10           47.55                   44.12  \n",
       "3                    38.53     26.64           45.03                   38.53  \n",
       "4                    35.75     28.61           42.18                   35.75  "
      ]
     },
     "execution_count": 78,
     "metadata": {},
     "output_type": "execute_result"
    }
   ],
   "source": [
    "XXfinal.head()"
   ]
  },
  {
   "cell_type": "code",
   "execution_count": 79,
   "metadata": {
    "id": "ae9WHnCjdM1s"
   },
   "outputs": [],
   "source": [
    "X_train, X_test, y_train, y_test = train_test_split(XXfinal, y, test_size = 0.3, random_state = 10,)"
   ]
  },
  {
   "cell_type": "code",
   "execution_count": 80,
   "metadata": {
    "colab": {
     "base_uri": "https://localhost:8080/"
    },
    "id": "CjBN3eXPdM1s",
    "outputId": "8643fe85-a5e0-4b53-e581-b0df11478405"
   },
   "outputs": [
    {
     "data": {
      "text/plain": [
       "(485149, 15)"
      ]
     },
     "execution_count": 80,
     "metadata": {},
     "output_type": "execute_result"
    }
   ],
   "source": [
    "X_train.shape"
   ]
  },
  {
   "cell_type": "code",
   "execution_count": 81,
   "metadata": {
    "id": "Stovz796dM1t"
   },
   "outputs": [],
   "source": [
    "#Creating model\n",
    "reg1 = LinearRegression()\n",
    "#Fitting training data\n",
    "reg1 = reg1.fit(X_train, y_train)"
   ]
  },
  {
   "cell_type": "code",
   "execution_count": 82,
   "metadata": {
    "colab": {
     "base_uri": "https://localhost:8080/"
    },
    "id": "aVUbWQxldM1t",
    "outputId": "23be0e83-3cba-46b0-ff62-fbd0f90f0a42"
   },
   "outputs": [
    {
     "data": {
      "text/plain": [
       "0.5207944456440701"
      ]
     },
     "execution_count": 82,
     "metadata": {},
     "output_type": "execute_result"
    }
   ],
   "source": [
    "reg1.score(X_train, y_train)"
   ]
  },
  {
   "cell_type": "markdown",
   "metadata": {
    "id": "r5gtEk3WdM1n"
   },
   "source": [
    "#### Training accuracy in 25 features"
   ]
  },
  {
   "cell_type": "code",
   "execution_count": 83,
   "metadata": {
    "colab": {
     "base_uri": "https://localhost:8080/"
    },
    "id": "fEsXKaUidM1o",
    "outputId": "2c19cd37-1150-443d-ef19-525f4d2c50db"
   },
   "outputs": [
    {
     "name": "stderr",
     "output_type": "stream",
     "text": [
      "C:\\Users\\Pratik\\anaconda3\\lib\\site-packages\\sklearn\\utils\\validation.py:70: FutureWarning: Pass n_features_to_select=25 as keyword args. From version 1.0 (renaming of 0.25) passing these as positional arguments will result in an error\n",
      "  warnings.warn(f\"Pass {args_msg} as keyword args. From version \"\n"
     ]
    },
    {
     "name": "stdout",
     "output_type": "stream",
     "text": [
      "Fitting estimator with 56 features.\n",
      "Fitting estimator with 55 features.\n",
      "Fitting estimator with 54 features.\n",
      "Fitting estimator with 53 features.\n",
      "Fitting estimator with 52 features.\n",
      "Fitting estimator with 51 features.\n",
      "Fitting estimator with 50 features.\n",
      "Fitting estimator with 49 features.\n",
      "Fitting estimator with 48 features.\n",
      "Fitting estimator with 47 features.\n",
      "Fitting estimator with 46 features.\n",
      "Fitting estimator with 45 features.\n",
      "Fitting estimator with 44 features.\n",
      "Fitting estimator with 43 features.\n",
      "Fitting estimator with 42 features.\n",
      "Fitting estimator with 41 features.\n",
      "Fitting estimator with 40 features.\n",
      "Fitting estimator with 39 features.\n",
      "Fitting estimator with 38 features.\n",
      "Fitting estimator with 37 features.\n",
      "Fitting estimator with 36 features.\n",
      "Fitting estimator with 35 features.\n",
      "Fitting estimator with 34 features.\n",
      "Fitting estimator with 33 features.\n",
      "Fitting estimator with 32 features.\n",
      "Fitting estimator with 31 features.\n",
      "Fitting estimator with 30 features.\n",
      "Fitting estimator with 29 features.\n",
      "Fitting estimator with 28 features.\n",
      "Fitting estimator with 27 features.\n",
      "Fitting estimator with 26 features.\n"
     ]
    }
   ],
   "source": [
    "rfe = RFE(reg, 25, verbose=1)\n",
    "rfe = rfe.fit(X, y)"
   ]
  },
  {
   "cell_type": "code",
   "execution_count": 84,
   "metadata": {
    "id": "okh284U_dM1o"
   },
   "outputs": [],
   "source": [
    "XXfinal = X[X.columns[rfe.support_]]"
   ]
  },
  {
   "cell_type": "code",
   "execution_count": 85,
   "metadata": {
    "colab": {
     "base_uri": "https://localhost:8080/",
     "height": 215
    },
    "id": "dCrDntLidM1o",
    "outputId": "9612f86d-2ca6-4536-b69c-25ad0d1b915e"
   },
   "outputs": [
    {
     "data": {
      "text/html": [
       "<div>\n",
       "<style scoped>\n",
       "    .dataframe tbody tr th:only-of-type {\n",
       "        vertical-align: middle;\n",
       "    }\n",
       "\n",
       "    .dataframe tbody tr th {\n",
       "        vertical-align: top;\n",
       "    }\n",
       "\n",
       "    .dataframe thead th {\n",
       "        text-align: right;\n",
       "    }\n",
       "</style>\n",
       "<table border=\"1\" class=\"dataframe\">\n",
       "  <thead>\n",
       "    <tr style=\"text-align: right;\">\n",
       "      <th></th>\n",
       "      <th>source</th>\n",
       "      <th>destination</th>\n",
       "      <th>cab_type</th>\n",
       "      <th>product_id</th>\n",
       "      <th>name</th>\n",
       "      <th>distance</th>\n",
       "      <th>surge_multiplier</th>\n",
       "      <th>latitude</th>\n",
       "      <th>longitude</th>\n",
       "      <th>temperature</th>\n",
       "      <th>...</th>\n",
       "      <th>windGust</th>\n",
       "      <th>temperatureHigh</th>\n",
       "      <th>apparentTemperatureHigh</th>\n",
       "      <th>icon</th>\n",
       "      <th>dewPoint</th>\n",
       "      <th>cloudCover</th>\n",
       "      <th>uvIndex</th>\n",
       "      <th>precipIntensityMax</th>\n",
       "      <th>temperatureMax</th>\n",
       "      <th>apparentTemperatureMax</th>\n",
       "    </tr>\n",
       "  </thead>\n",
       "  <tbody>\n",
       "    <tr>\n",
       "      <th>0</th>\n",
       "      <td>5</td>\n",
       "      <td>7</td>\n",
       "      <td>0</td>\n",
       "      <td>8</td>\n",
       "      <td>7</td>\n",
       "      <td>0.44</td>\n",
       "      <td>1.0</td>\n",
       "      <td>42.2148</td>\n",
       "      <td>-71.033</td>\n",
       "      <td>42.34</td>\n",
       "      <td>...</td>\n",
       "      <td>9.17</td>\n",
       "      <td>43.68</td>\n",
       "      <td>37.95</td>\n",
       "      <td>5</td>\n",
       "      <td>32.70</td>\n",
       "      <td>0.72</td>\n",
       "      <td>0</td>\n",
       "      <td>0.1276</td>\n",
       "      <td>43.68</td>\n",
       "      <td>38.07</td>\n",
       "    </tr>\n",
       "    <tr>\n",
       "      <th>1</th>\n",
       "      <td>5</td>\n",
       "      <td>7</td>\n",
       "      <td>0</td>\n",
       "      <td>12</td>\n",
       "      <td>2</td>\n",
       "      <td>0.44</td>\n",
       "      <td>1.0</td>\n",
       "      <td>42.2148</td>\n",
       "      <td>-71.033</td>\n",
       "      <td>43.58</td>\n",
       "      <td>...</td>\n",
       "      <td>11.98</td>\n",
       "      <td>47.30</td>\n",
       "      <td>43.92</td>\n",
       "      <td>6</td>\n",
       "      <td>41.83</td>\n",
       "      <td>1.00</td>\n",
       "      <td>0</td>\n",
       "      <td>0.1300</td>\n",
       "      <td>47.30</td>\n",
       "      <td>43.92</td>\n",
       "    </tr>\n",
       "    <tr>\n",
       "      <th>2</th>\n",
       "      <td>5</td>\n",
       "      <td>7</td>\n",
       "      <td>0</td>\n",
       "      <td>7</td>\n",
       "      <td>5</td>\n",
       "      <td>0.44</td>\n",
       "      <td>1.0</td>\n",
       "      <td>42.2148</td>\n",
       "      <td>-71.033</td>\n",
       "      <td>38.33</td>\n",
       "      <td>...</td>\n",
       "      <td>7.33</td>\n",
       "      <td>47.55</td>\n",
       "      <td>44.12</td>\n",
       "      <td>1</td>\n",
       "      <td>31.10</td>\n",
       "      <td>0.03</td>\n",
       "      <td>0</td>\n",
       "      <td>0.1064</td>\n",
       "      <td>47.55</td>\n",
       "      <td>44.12</td>\n",
       "    </tr>\n",
       "    <tr>\n",
       "      <th>3</th>\n",
       "      <td>5</td>\n",
       "      <td>7</td>\n",
       "      <td>0</td>\n",
       "      <td>10</td>\n",
       "      <td>4</td>\n",
       "      <td>0.44</td>\n",
       "      <td>1.0</td>\n",
       "      <td>42.2148</td>\n",
       "      <td>-71.033</td>\n",
       "      <td>34.38</td>\n",
       "      <td>...</td>\n",
       "      <td>5.28</td>\n",
       "      <td>45.03</td>\n",
       "      <td>38.53</td>\n",
       "      <td>1</td>\n",
       "      <td>26.64</td>\n",
       "      <td>0.00</td>\n",
       "      <td>0</td>\n",
       "      <td>0.0000</td>\n",
       "      <td>45.03</td>\n",
       "      <td>38.53</td>\n",
       "    </tr>\n",
       "    <tr>\n",
       "      <th>4</th>\n",
       "      <td>5</td>\n",
       "      <td>7</td>\n",
       "      <td>0</td>\n",
       "      <td>11</td>\n",
       "      <td>6</td>\n",
       "      <td>0.44</td>\n",
       "      <td>1.0</td>\n",
       "      <td>42.2148</td>\n",
       "      <td>-71.033</td>\n",
       "      <td>37.44</td>\n",
       "      <td>...</td>\n",
       "      <td>9.14</td>\n",
       "      <td>42.18</td>\n",
       "      <td>35.75</td>\n",
       "      <td>5</td>\n",
       "      <td>28.61</td>\n",
       "      <td>0.44</td>\n",
       "      <td>0</td>\n",
       "      <td>0.0001</td>\n",
       "      <td>42.18</td>\n",
       "      <td>35.75</td>\n",
       "    </tr>\n",
       "  </tbody>\n",
       "</table>\n",
       "<p>5 rows × 25 columns</p>\n",
       "</div>"
      ],
      "text/plain": [
       "   source  destination  cab_type  product_id  name  distance  \\\n",
       "0       5            7         0           8     7      0.44   \n",
       "1       5            7         0          12     2      0.44   \n",
       "2       5            7         0           7     5      0.44   \n",
       "3       5            7         0          10     4      0.44   \n",
       "4       5            7         0          11     6      0.44   \n",
       "\n",
       "   surge_multiplier  latitude  longitude  temperature  ...  windGust  \\\n",
       "0               1.0   42.2148    -71.033        42.34  ...      9.17   \n",
       "1               1.0   42.2148    -71.033        43.58  ...     11.98   \n",
       "2               1.0   42.2148    -71.033        38.33  ...      7.33   \n",
       "3               1.0   42.2148    -71.033        34.38  ...      5.28   \n",
       "4               1.0   42.2148    -71.033        37.44  ...      9.14   \n",
       "\n",
       "   temperatureHigh  apparentTemperatureHigh  icon  dewPoint  cloudCover  \\\n",
       "0            43.68                    37.95     5     32.70        0.72   \n",
       "1            47.30                    43.92     6     41.83        1.00   \n",
       "2            47.55                    44.12     1     31.10        0.03   \n",
       "3            45.03                    38.53     1     26.64        0.00   \n",
       "4            42.18                    35.75     5     28.61        0.44   \n",
       "\n",
       "   uvIndex  precipIntensityMax  temperatureMax  apparentTemperatureMax  \n",
       "0        0              0.1276           43.68                   38.07  \n",
       "1        0              0.1300           47.30                   43.92  \n",
       "2        0              0.1064           47.55                   44.12  \n",
       "3        0              0.0000           45.03                   38.53  \n",
       "4        0              0.0001           42.18                   35.75  \n",
       "\n",
       "[5 rows x 25 columns]"
      ]
     },
     "execution_count": 85,
     "metadata": {},
     "output_type": "execute_result"
    }
   ],
   "source": [
    "XXfinal.head()"
   ]
  },
  {
   "cell_type": "code",
   "execution_count": 87,
   "metadata": {
    "id": "a4bIu5BBdM1p"
   },
   "outputs": [],
   "source": [
    "X_train, X_test, y_train, y_test = train_test_split(XXfinal, y, test_size = 0.3, random_state = 20,)"
   ]
  },
  {
   "cell_type": "code",
   "execution_count": 88,
   "metadata": {
    "colab": {
     "base_uri": "https://localhost:8080/"
    },
    "id": "B5mo6yv5dM1p",
    "outputId": "7b1de43d-fdb3-4409-c94f-86139825eb58"
   },
   "outputs": [
    {
     "data": {
      "text/plain": [
       "(485149, 25)"
      ]
     },
     "execution_count": 88,
     "metadata": {},
     "output_type": "execute_result"
    }
   ],
   "source": [
    "X_train.shape"
   ]
  },
  {
   "cell_type": "code",
   "execution_count": 89,
   "metadata": {
    "id": "R9iOX2L3dM1p"
   },
   "outputs": [],
   "source": [
    "#Creating model\n",
    "reg1 = LinearRegression()\n",
    "#Fitting training data\n",
    "reg1 = reg1.fit(X_train, y_train)\n",
    "#Y prediction\n",
    "Y_pred = reg1.predict(X_test)"
   ]
  },
  {
   "cell_type": "code",
   "execution_count": 90,
   "metadata": {
    "colab": {
     "base_uri": "https://localhost:8080/"
    },
    "id": "yyphrzfLdM1q",
    "outputId": "d431bb63-e9f9-40a4-d2ed-4eb88d4695b3"
   },
   "outputs": [
    {
     "data": {
      "text/plain": [
       "0.5206802050605615"
      ]
     },
     "execution_count": 90,
     "metadata": {},
     "output_type": "execute_result"
    }
   ],
   "source": [
    "reg1.score(X_train, y_train)"
   ]
  },
  {
   "cell_type": "markdown",
   "metadata": {
    "id": "6GT_96u2dM1u"
   },
   "source": [
    "- As a result of determining the accuracy for k = 56, 40, 25, and 15,\n",
    "- As a result, we noted that the Linear Regression Model's training accuracy is at its highest when k = 25."
   ]
  },
  {
   "cell_type": "markdown",
   "metadata": {
    "id": "pHzg3qKjdM1u"
   },
   "source": [
    "### 25 Columns After RFE"
   ]
  },
  {
   "cell_type": "code",
   "execution_count": 91,
   "metadata": {
    "colab": {
     "base_uri": "https://localhost:8080/"
    },
    "id": "zVDqBK1DdM1u",
    "outputId": "21465058-853f-4de2-ce4a-cf9eb079807d"
   },
   "outputs": [
    {
     "data": {
      "text/plain": [
       "Index(['source', 'destination', 'cab_type', 'product_id', 'name', 'distance',\n",
       "       'surge_multiplier', 'latitude', 'longitude', 'temperature',\n",
       "       'apparentTemperature', 'precipIntensity', 'precipProbability',\n",
       "       'humidity', 'windSpeed', 'windGust', 'temperatureHigh',\n",
       "       'apparentTemperatureHigh', 'icon', 'dewPoint', 'cloudCover', 'uvIndex',\n",
       "       'precipIntensityMax', 'temperatureMax', 'apparentTemperatureMax'],\n",
       "      dtype='object')"
      ]
     },
     "execution_count": 91,
     "metadata": {},
     "output_type": "execute_result"
    }
   ],
   "source": [
    "XXfinal.columns"
   ]
  },
  {
   "cell_type": "code",
   "execution_count": 92,
   "metadata": {
    "colab": {
     "base_uri": "https://localhost:8080/"
    },
    "id": "ktWXBUOFdM1v",
    "outputId": "9448de0d-532d-4f0b-b6c1-c965c6de5c57"
   },
   "outputs": [
    {
     "data": {
      "text/plain": [
       "(693071, 25)"
      ]
     },
     "execution_count": 92,
     "metadata": {},
     "output_type": "execute_result"
    }
   ],
   "source": [
    "XXfinal.shape"
   ]
  },
  {
   "cell_type": "code",
   "execution_count": 93,
   "metadata": {
    "colab": {
     "base_uri": "https://localhost:8080/",
     "height": 215
    },
    "id": "mVNmkqETdM1v",
    "outputId": "646ad93a-cee4-4ed8-d87d-8016c63c5d7e"
   },
   "outputs": [
    {
     "data": {
      "text/html": [
       "<div>\n",
       "<style scoped>\n",
       "    .dataframe tbody tr th:only-of-type {\n",
       "        vertical-align: middle;\n",
       "    }\n",
       "\n",
       "    .dataframe tbody tr th {\n",
       "        vertical-align: top;\n",
       "    }\n",
       "\n",
       "    .dataframe thead th {\n",
       "        text-align: right;\n",
       "    }\n",
       "</style>\n",
       "<table border=\"1\" class=\"dataframe\">\n",
       "  <thead>\n",
       "    <tr style=\"text-align: right;\">\n",
       "      <th></th>\n",
       "      <th>source</th>\n",
       "      <th>destination</th>\n",
       "      <th>cab_type</th>\n",
       "      <th>product_id</th>\n",
       "      <th>name</th>\n",
       "      <th>distance</th>\n",
       "      <th>surge_multiplier</th>\n",
       "      <th>latitude</th>\n",
       "      <th>longitude</th>\n",
       "      <th>temperature</th>\n",
       "      <th>...</th>\n",
       "      <th>windGust</th>\n",
       "      <th>temperatureHigh</th>\n",
       "      <th>apparentTemperatureHigh</th>\n",
       "      <th>icon</th>\n",
       "      <th>dewPoint</th>\n",
       "      <th>cloudCover</th>\n",
       "      <th>uvIndex</th>\n",
       "      <th>precipIntensityMax</th>\n",
       "      <th>temperatureMax</th>\n",
       "      <th>apparentTemperatureMax</th>\n",
       "    </tr>\n",
       "  </thead>\n",
       "  <tbody>\n",
       "    <tr>\n",
       "      <th>0</th>\n",
       "      <td>5</td>\n",
       "      <td>7</td>\n",
       "      <td>0</td>\n",
       "      <td>8</td>\n",
       "      <td>7</td>\n",
       "      <td>0.44</td>\n",
       "      <td>1.0</td>\n",
       "      <td>42.2148</td>\n",
       "      <td>-71.033</td>\n",
       "      <td>42.34</td>\n",
       "      <td>...</td>\n",
       "      <td>9.17</td>\n",
       "      <td>43.68</td>\n",
       "      <td>37.95</td>\n",
       "      <td>5</td>\n",
       "      <td>32.70</td>\n",
       "      <td>0.72</td>\n",
       "      <td>0</td>\n",
       "      <td>0.1276</td>\n",
       "      <td>43.68</td>\n",
       "      <td>38.07</td>\n",
       "    </tr>\n",
       "    <tr>\n",
       "      <th>1</th>\n",
       "      <td>5</td>\n",
       "      <td>7</td>\n",
       "      <td>0</td>\n",
       "      <td>12</td>\n",
       "      <td>2</td>\n",
       "      <td>0.44</td>\n",
       "      <td>1.0</td>\n",
       "      <td>42.2148</td>\n",
       "      <td>-71.033</td>\n",
       "      <td>43.58</td>\n",
       "      <td>...</td>\n",
       "      <td>11.98</td>\n",
       "      <td>47.30</td>\n",
       "      <td>43.92</td>\n",
       "      <td>6</td>\n",
       "      <td>41.83</td>\n",
       "      <td>1.00</td>\n",
       "      <td>0</td>\n",
       "      <td>0.1300</td>\n",
       "      <td>47.30</td>\n",
       "      <td>43.92</td>\n",
       "    </tr>\n",
       "    <tr>\n",
       "      <th>2</th>\n",
       "      <td>5</td>\n",
       "      <td>7</td>\n",
       "      <td>0</td>\n",
       "      <td>7</td>\n",
       "      <td>5</td>\n",
       "      <td>0.44</td>\n",
       "      <td>1.0</td>\n",
       "      <td>42.2148</td>\n",
       "      <td>-71.033</td>\n",
       "      <td>38.33</td>\n",
       "      <td>...</td>\n",
       "      <td>7.33</td>\n",
       "      <td>47.55</td>\n",
       "      <td>44.12</td>\n",
       "      <td>1</td>\n",
       "      <td>31.10</td>\n",
       "      <td>0.03</td>\n",
       "      <td>0</td>\n",
       "      <td>0.1064</td>\n",
       "      <td>47.55</td>\n",
       "      <td>44.12</td>\n",
       "    </tr>\n",
       "    <tr>\n",
       "      <th>3</th>\n",
       "      <td>5</td>\n",
       "      <td>7</td>\n",
       "      <td>0</td>\n",
       "      <td>10</td>\n",
       "      <td>4</td>\n",
       "      <td>0.44</td>\n",
       "      <td>1.0</td>\n",
       "      <td>42.2148</td>\n",
       "      <td>-71.033</td>\n",
       "      <td>34.38</td>\n",
       "      <td>...</td>\n",
       "      <td>5.28</td>\n",
       "      <td>45.03</td>\n",
       "      <td>38.53</td>\n",
       "      <td>1</td>\n",
       "      <td>26.64</td>\n",
       "      <td>0.00</td>\n",
       "      <td>0</td>\n",
       "      <td>0.0000</td>\n",
       "      <td>45.03</td>\n",
       "      <td>38.53</td>\n",
       "    </tr>\n",
       "    <tr>\n",
       "      <th>4</th>\n",
       "      <td>5</td>\n",
       "      <td>7</td>\n",
       "      <td>0</td>\n",
       "      <td>11</td>\n",
       "      <td>6</td>\n",
       "      <td>0.44</td>\n",
       "      <td>1.0</td>\n",
       "      <td>42.2148</td>\n",
       "      <td>-71.033</td>\n",
       "      <td>37.44</td>\n",
       "      <td>...</td>\n",
       "      <td>9.14</td>\n",
       "      <td>42.18</td>\n",
       "      <td>35.75</td>\n",
       "      <td>5</td>\n",
       "      <td>28.61</td>\n",
       "      <td>0.44</td>\n",
       "      <td>0</td>\n",
       "      <td>0.0001</td>\n",
       "      <td>42.18</td>\n",
       "      <td>35.75</td>\n",
       "    </tr>\n",
       "  </tbody>\n",
       "</table>\n",
       "<p>5 rows × 25 columns</p>\n",
       "</div>"
      ],
      "text/plain": [
       "   source  destination  cab_type  product_id  name  distance  \\\n",
       "0       5            7         0           8     7      0.44   \n",
       "1       5            7         0          12     2      0.44   \n",
       "2       5            7         0           7     5      0.44   \n",
       "3       5            7         0          10     4      0.44   \n",
       "4       5            7         0          11     6      0.44   \n",
       "\n",
       "   surge_multiplier  latitude  longitude  temperature  ...  windGust  \\\n",
       "0               1.0   42.2148    -71.033        42.34  ...      9.17   \n",
       "1               1.0   42.2148    -71.033        43.58  ...     11.98   \n",
       "2               1.0   42.2148    -71.033        38.33  ...      7.33   \n",
       "3               1.0   42.2148    -71.033        34.38  ...      5.28   \n",
       "4               1.0   42.2148    -71.033        37.44  ...      9.14   \n",
       "\n",
       "   temperatureHigh  apparentTemperatureHigh  icon  dewPoint  cloudCover  \\\n",
       "0            43.68                    37.95     5     32.70        0.72   \n",
       "1            47.30                    43.92     6     41.83        1.00   \n",
       "2            47.55                    44.12     1     31.10        0.03   \n",
       "3            45.03                    38.53     1     26.64        0.00   \n",
       "4            42.18                    35.75     5     28.61        0.44   \n",
       "\n",
       "   uvIndex  precipIntensityMax  temperatureMax  apparentTemperatureMax  \n",
       "0        0              0.1276           43.68                   38.07  \n",
       "1        0              0.1300           47.30                   43.92  \n",
       "2        0              0.1064           47.55                   44.12  \n",
       "3        0              0.0000           45.03                   38.53  \n",
       "4        0              0.0001           42.18                   35.75  \n",
       "\n",
       "[5 rows x 25 columns]"
      ]
     },
     "execution_count": 93,
     "metadata": {},
     "output_type": "execute_result"
    }
   ],
   "source": [
    "XXfinal.head()"
   ]
  },
  {
   "cell_type": "markdown",
   "metadata": {},
   "source": [
    "### Droping Unwanted Features"
   ]
  },
  {
   "cell_type": "code",
   "execution_count": 94,
   "metadata": {
    "id": "j9GdXVpAdM1w"
   },
   "outputs": [],
   "source": [
    "featuresdrop = ['latitude', 'longitude', 'apparentTemperature',\n",
    "        'precipIntensity', 'humidity', 'windSpeed', 'windGust',\n",
    "       'temperatureHigh', 'apparentTemperatureHigh', 'dewPoint','precipIntensityMax',\n",
    "       'temperatureMax', 'apparentTemperatureMax', 'distance', 'cloudCover']\n",
    "newuberdata = XXfinal.drop(featuresdrop, axis=1)"
   ]
  },
  {
   "cell_type": "code",
   "execution_count": 95,
   "metadata": {},
   "outputs": [
    {
     "data": {
      "text/html": [
       "<div>\n",
       "<style scoped>\n",
       "    .dataframe tbody tr th:only-of-type {\n",
       "        vertical-align: middle;\n",
       "    }\n",
       "\n",
       "    .dataframe tbody tr th {\n",
       "        vertical-align: top;\n",
       "    }\n",
       "\n",
       "    .dataframe thead th {\n",
       "        text-align: right;\n",
       "    }\n",
       "</style>\n",
       "<table border=\"1\" class=\"dataframe\">\n",
       "  <thead>\n",
       "    <tr style=\"text-align: right;\">\n",
       "      <th></th>\n",
       "      <th>source</th>\n",
       "      <th>destination</th>\n",
       "      <th>cab_type</th>\n",
       "      <th>product_id</th>\n",
       "      <th>name</th>\n",
       "      <th>surge_multiplier</th>\n",
       "      <th>temperature</th>\n",
       "      <th>precipProbability</th>\n",
       "      <th>icon</th>\n",
       "      <th>uvIndex</th>\n",
       "    </tr>\n",
       "  </thead>\n",
       "  <tbody>\n",
       "    <tr>\n",
       "      <th>0</th>\n",
       "      <td>5</td>\n",
       "      <td>7</td>\n",
       "      <td>0</td>\n",
       "      <td>8</td>\n",
       "      <td>7</td>\n",
       "      <td>1.0</td>\n",
       "      <td>42.34</td>\n",
       "      <td>0.0</td>\n",
       "      <td>5</td>\n",
       "      <td>0</td>\n",
       "    </tr>\n",
       "    <tr>\n",
       "      <th>1</th>\n",
       "      <td>5</td>\n",
       "      <td>7</td>\n",
       "      <td>0</td>\n",
       "      <td>12</td>\n",
       "      <td>2</td>\n",
       "      <td>1.0</td>\n",
       "      <td>43.58</td>\n",
       "      <td>1.0</td>\n",
       "      <td>6</td>\n",
       "      <td>0</td>\n",
       "    </tr>\n",
       "    <tr>\n",
       "      <th>2</th>\n",
       "      <td>5</td>\n",
       "      <td>7</td>\n",
       "      <td>0</td>\n",
       "      <td>7</td>\n",
       "      <td>5</td>\n",
       "      <td>1.0</td>\n",
       "      <td>38.33</td>\n",
       "      <td>0.0</td>\n",
       "      <td>1</td>\n",
       "      <td>0</td>\n",
       "    </tr>\n",
       "    <tr>\n",
       "      <th>3</th>\n",
       "      <td>5</td>\n",
       "      <td>7</td>\n",
       "      <td>0</td>\n",
       "      <td>10</td>\n",
       "      <td>4</td>\n",
       "      <td>1.0</td>\n",
       "      <td>34.38</td>\n",
       "      <td>0.0</td>\n",
       "      <td>1</td>\n",
       "      <td>0</td>\n",
       "    </tr>\n",
       "    <tr>\n",
       "      <th>4</th>\n",
       "      <td>5</td>\n",
       "      <td>7</td>\n",
       "      <td>0</td>\n",
       "      <td>11</td>\n",
       "      <td>6</td>\n",
       "      <td>1.0</td>\n",
       "      <td>37.44</td>\n",
       "      <td>0.0</td>\n",
       "      <td>5</td>\n",
       "      <td>0</td>\n",
       "    </tr>\n",
       "  </tbody>\n",
       "</table>\n",
       "</div>"
      ],
      "text/plain": [
       "   source  destination  cab_type  product_id  name  surge_multiplier  \\\n",
       "0       5            7         0           8     7               1.0   \n",
       "1       5            7         0          12     2               1.0   \n",
       "2       5            7         0           7     5               1.0   \n",
       "3       5            7         0          10     4               1.0   \n",
       "4       5            7         0          11     6               1.0   \n",
       "\n",
       "   temperature  precipProbability  icon  uvIndex  \n",
       "0        42.34                0.0     5        0  \n",
       "1        43.58                1.0     6        0  \n",
       "2        38.33                0.0     1        0  \n",
       "3        34.38                0.0     1        0  \n",
       "4        37.44                0.0     5        0  "
      ]
     },
     "execution_count": 95,
     "metadata": {},
     "output_type": "execute_result"
    }
   ],
   "source": [
    "newuberdata.head()"
   ]
  },
  {
   "cell_type": "markdown",
   "metadata": {},
   "source": [
    "### Binning"
   ]
  },
  {
   "cell_type": "code",
   "execution_count": 96,
   "metadata": {},
   "outputs": [],
   "source": [
    "surge_multiplier_mapping = {1.: 0, 1.25: 1, 1.5: 2, 1.75: 3, 2.:4}\n",
    "newuberdata['surge_multiplier'] = newuberdata['surge_multiplier'].map(surge_multiplier_mapping)"
   ]
  },
  {
   "cell_type": "markdown",
   "metadata": {
    "id": "x_pzLDEQdM1w"
   },
   "source": [
    "### Final Dataset"
   ]
  },
  {
   "cell_type": "code",
   "execution_count": 97,
   "metadata": {
    "colab": {
     "base_uri": "https://localhost:8080/",
     "height": 195
    },
    "id": "wyWua_W-dM1w",
    "outputId": "302f32f2-d5ab-45a2-87db-3dedd5fc2c19"
   },
   "outputs": [
    {
     "data": {
      "text/html": [
       "<div>\n",
       "<style scoped>\n",
       "    .dataframe tbody tr th:only-of-type {\n",
       "        vertical-align: middle;\n",
       "    }\n",
       "\n",
       "    .dataframe tbody tr th {\n",
       "        vertical-align: top;\n",
       "    }\n",
       "\n",
       "    .dataframe thead th {\n",
       "        text-align: right;\n",
       "    }\n",
       "</style>\n",
       "<table border=\"1\" class=\"dataframe\">\n",
       "  <thead>\n",
       "    <tr style=\"text-align: right;\">\n",
       "      <th></th>\n",
       "      <th>source</th>\n",
       "      <th>destination</th>\n",
       "      <th>cab_type</th>\n",
       "      <th>product_id</th>\n",
       "      <th>name</th>\n",
       "      <th>surge_multiplier</th>\n",
       "      <th>temperature</th>\n",
       "      <th>precipProbability</th>\n",
       "      <th>icon</th>\n",
       "      <th>uvIndex</th>\n",
       "    </tr>\n",
       "  </thead>\n",
       "  <tbody>\n",
       "    <tr>\n",
       "      <th>0</th>\n",
       "      <td>5</td>\n",
       "      <td>7</td>\n",
       "      <td>0</td>\n",
       "      <td>8</td>\n",
       "      <td>7</td>\n",
       "      <td>0.0</td>\n",
       "      <td>42.34</td>\n",
       "      <td>0.0</td>\n",
       "      <td>5</td>\n",
       "      <td>0</td>\n",
       "    </tr>\n",
       "    <tr>\n",
       "      <th>1</th>\n",
       "      <td>5</td>\n",
       "      <td>7</td>\n",
       "      <td>0</td>\n",
       "      <td>12</td>\n",
       "      <td>2</td>\n",
       "      <td>0.0</td>\n",
       "      <td>43.58</td>\n",
       "      <td>1.0</td>\n",
       "      <td>6</td>\n",
       "      <td>0</td>\n",
       "    </tr>\n",
       "    <tr>\n",
       "      <th>2</th>\n",
       "      <td>5</td>\n",
       "      <td>7</td>\n",
       "      <td>0</td>\n",
       "      <td>7</td>\n",
       "      <td>5</td>\n",
       "      <td>0.0</td>\n",
       "      <td>38.33</td>\n",
       "      <td>0.0</td>\n",
       "      <td>1</td>\n",
       "      <td>0</td>\n",
       "    </tr>\n",
       "    <tr>\n",
       "      <th>3</th>\n",
       "      <td>5</td>\n",
       "      <td>7</td>\n",
       "      <td>0</td>\n",
       "      <td>10</td>\n",
       "      <td>4</td>\n",
       "      <td>0.0</td>\n",
       "      <td>34.38</td>\n",
       "      <td>0.0</td>\n",
       "      <td>1</td>\n",
       "      <td>0</td>\n",
       "    </tr>\n",
       "    <tr>\n",
       "      <th>4</th>\n",
       "      <td>5</td>\n",
       "      <td>7</td>\n",
       "      <td>0</td>\n",
       "      <td>11</td>\n",
       "      <td>6</td>\n",
       "      <td>0.0</td>\n",
       "      <td>37.44</td>\n",
       "      <td>0.0</td>\n",
       "      <td>5</td>\n",
       "      <td>0</td>\n",
       "    </tr>\n",
       "  </tbody>\n",
       "</table>\n",
       "</div>"
      ],
      "text/plain": [
       "   source  destination  cab_type  product_id  name  surge_multiplier  \\\n",
       "0       5            7         0           8     7               0.0   \n",
       "1       5            7         0          12     2               0.0   \n",
       "2       5            7         0           7     5               0.0   \n",
       "3       5            7         0          10     4               0.0   \n",
       "4       5            7         0          11     6               0.0   \n",
       "\n",
       "   temperature  precipProbability  icon  uvIndex  \n",
       "0        42.34                0.0     5        0  \n",
       "1        43.58                1.0     6        0  \n",
       "2        38.33                0.0     1        0  \n",
       "3        34.38                0.0     1        0  \n",
       "4        37.44                0.0     5        0  "
      ]
     },
     "execution_count": 97,
     "metadata": {},
     "output_type": "execute_result"
    }
   ],
   "source": [
    "newuberdata.head()"
   ]
  },
  {
   "cell_type": "code",
   "execution_count": 98,
   "metadata": {},
   "outputs": [],
   "source": [
    "newuberdata.fillna(0, inplace=True)"
   ]
  },
  {
   "cell_type": "code",
   "execution_count": 99,
   "metadata": {
    "colab": {
     "base_uri": "https://localhost:8080/"
    },
    "id": "4301z2lmdM1w",
    "outputId": "c9f307c5-b8ae-4876-a4e3-0e2695bec404"
   },
   "outputs": [
    {
     "data": {
      "text/plain": [
       "0     5\n",
       "1    11\n",
       "2     7\n",
       "3    26\n",
       "4     9\n",
       "Name: price, dtype: int32"
      ]
     },
     "execution_count": 99,
     "metadata": {},
     "output_type": "execute_result"
    }
   ],
   "source": [
    "y.head()"
   ]
  },
  {
   "cell_type": "markdown",
   "metadata": {
    "id": "JF9cUd1cdM1x"
   },
   "source": [
    "## 5. Modeling"
   ]
  },
  {
   "cell_type": "code",
   "execution_count": 100,
   "metadata": {
    "colab": {
     "base_uri": "https://localhost:8080/"
    },
    "id": "Z2ycv_I1dM1x",
    "outputId": "786d6860-d986-4e64-8905-23bc8551b795"
   },
   "outputs": [
    {
     "data": {
      "text/plain": [
       "(693071, 10)"
      ]
     },
     "execution_count": 100,
     "metadata": {},
     "output_type": "execute_result"
    }
   ],
   "source": [
    "newuberdata.shape"
   ]
  },
  {
   "cell_type": "code",
   "execution_count": 101,
   "metadata": {
    "colab": {
     "base_uri": "https://localhost:8080/"
    },
    "id": "l6g4DuvHdM1y",
    "outputId": "70212ec8-a27d-4377-b166-63ea4c339cd8"
   },
   "outputs": [
    {
     "data": {
      "text/plain": [
       "(693071,)"
      ]
     },
     "execution_count": 101,
     "metadata": {},
     "output_type": "execute_result"
    }
   ],
   "source": [
    "y.shape"
   ]
  },
  {
   "cell_type": "code",
   "execution_count": 102,
   "metadata": {
    "id": "Cs4mLXOJdM1y"
   },
   "outputs": [],
   "source": [
    "# Using Skicit-learn to split data into training and testing sets\n",
    "from sklearn.model_selection import train_test_split\n",
    "# Split the data into training and testing sets\n",
    "xx_train, xx_test, yy_train, yy_test = train_test_split(newuberdata, y, test_size = 0.2, random_state = 42)"
   ]
  },
  {
   "cell_type": "code",
   "execution_count": 103,
   "metadata": {
    "colab": {
     "base_uri": "https://localhost:8080/"
    },
    "id": "NJUgsh3MdM1y",
    "outputId": "5af56cce-9d2d-4e00-e8e8-d092f0b46cb9"
   },
   "outputs": [
    {
     "data": {
      "text/plain": [
       "(554456, 10)"
      ]
     },
     "execution_count": 103,
     "metadata": {},
     "output_type": "execute_result"
    }
   ],
   "source": [
    "xx_train.shape"
   ]
  },
  {
   "cell_type": "code",
   "execution_count": 104,
   "metadata": {
    "colab": {
     "base_uri": "https://localhost:8080/"
    },
    "id": "yilLNU7xdM1z",
    "outputId": "0929bcea-2132-439d-f5b5-c73acb3de2d5"
   },
   "outputs": [
    {
     "data": {
      "text/plain": [
       "(138615, 10)"
      ]
     },
     "execution_count": 104,
     "metadata": {},
     "output_type": "execute_result"
    }
   ],
   "source": [
    "xx_test.shape"
   ]
  },
  {
   "cell_type": "code",
   "execution_count": 105,
   "metadata": {
    "colab": {
     "base_uri": "https://localhost:8080/"
    },
    "id": "yxfu38ltdM1z",
    "outputId": "37d29ced-a0e9-4c82-84a5-c57308855877"
   },
   "outputs": [
    {
     "data": {
      "text/plain": [
       "(554456,)"
      ]
     },
     "execution_count": 105,
     "metadata": {},
     "output_type": "execute_result"
    }
   ],
   "source": [
    "yy_train.shape"
   ]
  },
  {
   "cell_type": "code",
   "execution_count": 106,
   "metadata": {
    "colab": {
     "base_uri": "https://localhost:8080/"
    },
    "id": "uLPsI8SbdM10",
    "outputId": "f03238dd-b013-4bee-8f53-7ee613c577dc"
   },
   "outputs": [
    {
     "data": {
      "text/plain": [
       "(138615,)"
      ]
     },
     "execution_count": 106,
     "metadata": {},
     "output_type": "execute_result"
    }
   ],
   "source": [
    "yy_test.shape"
   ]
  },
  {
   "cell_type": "code",
   "execution_count": 107,
   "metadata": {
    "id": "hl_HaXAQdM12"
   },
   "outputs": [],
   "source": [
    "from sklearn.linear_model import LinearRegression\n",
    "from sklearn.linear_model import LogisticRegression\n",
    "from sklearn.tree import DecisionTreeRegressor\n",
    "from sklearn.ensemble import RandomForestRegressor "
   ]
  },
  {
   "cell_type": "code",
   "execution_count": 108,
   "metadata": {},
   "outputs": [],
   "source": [
    "newuberdata.fillna(X_train.mean(), inplace=True)"
   ]
  },
  {
   "cell_type": "markdown",
   "metadata": {
    "id": "SGNZ4cfPdM13"
   },
   "source": [
    "#### 5.1 Linear regression"
   ]
  },
  {
   "cell_type": "code",
   "execution_count": 109,
   "metadata": {},
   "outputs": [],
   "source": [
    "from scipy.stats import loguniform\n",
    "from pandas import read_csv\n",
    "from sklearn.linear_model import Ridge\n",
    "from sklearn.model_selection import RepeatedKFold\n",
    "from sklearn.model_selection import RandomizedSearchCV\n"
   ]
  },
  {
   "cell_type": "code",
   "execution_count": 110,
   "metadata": {
    "colab": {
     "base_uri": "https://localhost:8080/"
    },
    "id": "oNFKta4rdM14",
    "outputId": "818cb515-1fe4-4ccc-9ae6-dd1d34a15445"
   },
   "outputs": [
    {
     "name": "stdout",
     "output_type": "stream",
     "text": [
      "linear_score :  0.41973282820736557\n"
     ]
    }
   ],
   "source": [
    "linear = LinearRegression(fit_intercept=True, normalize=False,copy_X=True, n_jobs=None)\n",
    "\n",
    "linear.fit(xx_train, yy_train)\n",
    "print('linear_score : ',linear.score(xx_test, yy_test))"
   ]
  },
  {
   "cell_type": "markdown",
   "metadata": {
    "id": "rkcejW5zdM16"
   },
   "source": [
    "#### 5.2 Decision Tree"
   ]
  },
  {
   "cell_type": "code",
   "execution_count": 111,
   "metadata": {
    "colab": {
     "base_uri": "https://localhost:8080/"
    },
    "id": "rrsV9YTGdM16",
    "outputId": "dfda8878-a4d8-4cfb-9af3-d1cb848fd7ee"
   },
   "outputs": [
    {
     "name": "stdout",
     "output_type": "stream",
     "text": [
      "Decision_tree_score : 0.9350893669242692\n"
     ]
    }
   ],
   "source": [
    "decision = DecisionTreeRegressor(random_state = 0)  \n",
    "decision.fit(xx_train , yy_train)\n",
    "print('Decision_tree_score :',decision.score(xx_test, yy_test))"
   ]
  },
  {
   "cell_type": "markdown",
   "metadata": {
    "id": "KdJrUIRadM17"
   },
   "source": [
    "#### 5.3 Random Forest"
   ]
  },
  {
   "cell_type": "code",
   "execution_count": 112,
   "metadata": {},
   "outputs": [
    {
     "name": "stdout",
     "output_type": "stream",
     "text": [
      "{'bootstrap': True, 'max_depth': None, 'max_features': 'auto', 'n_estimators': 15}\n"
     ]
    }
   ],
   "source": [
    "from sklearn.model_selection import GridSearchCV\n",
    "\n",
    "param_grid = {  'bootstrap': [True], 'max_depth': [5, 10, None], 'max_features': ['auto', 'log2'],\n",
    "              'n_estimators': [5, 6, 7, 8, 9, 10, 11, 12, 13, 15]}\n",
    "\n",
    "rfr = RandomForestRegressor(random_state = 1)\n",
    "\n",
    "g_search = GridSearchCV(estimator = rfr, param_grid = param_grid, \n",
    "\n",
    "                          cv = 3, n_jobs = 1, verbose = 0, return_train_score=True)\n",
    "g_search.fit(xx_train, yy_train)\n",
    "\n",
    "print(g_search.best_params_)"
   ]
  },
  {
   "cell_type": "code",
   "execution_count": 113,
   "metadata": {
    "colab": {
     "base_uri": "https://localhost:8080/"
    },
    "id": "91iuwQ8AdM17",
    "outputId": "05694275-b827-45d9-d68e-9f5ad943a1ed"
   },
   "outputs": [
    {
     "name": "stdout",
     "output_type": "stream",
     "text": [
      "Random_forest_score : 0.9464565853684954\n"
     ]
    }
   ],
   "source": [
    "random = RandomForestRegressor(n_estimators = 100, random_state = 0) \n",
    "random.fit(xx_train , yy_train) \n",
    "print('Random_forest_score :',random.score(xx_test, yy_test))"
   ]
  },
  {
   "cell_type": "markdown",
   "metadata": {},
   "source": [
    "#### 5.4 Gradient Boosting Regressor"
   ]
  },
  {
   "cell_type": "code",
   "execution_count": 114,
   "metadata": {},
   "outputs": [
    {
     "data": {
      "text/plain": [
       "GradientBoostingRegressor(max_depth=5, n_estimators=400)"
      ]
     },
     "execution_count": 114,
     "metadata": {},
     "output_type": "execute_result"
    }
   ],
   "source": [
    "from sklearn import ensemble\n",
    "clf = ensemble.GradientBoostingRegressor(n_estimators = 400, max_depth = 5)\n",
    "clf.fit(xx_train, yy_train)\n"
   ]
  },
  {
   "cell_type": "code",
   "execution_count": 115,
   "metadata": {},
   "outputs": [
    {
     "name": "stdout",
     "output_type": "stream",
     "text": [
      "Grdient_Boosting_Regressor_score : 0.9569897957016174\n"
     ]
    }
   ],
   "source": [
    "print('Grdient_Boosting_Regressor_score :',clf.score(xx_test, yy_test))"
   ]
  },
  {
   "cell_type": "markdown",
   "metadata": {},
   "source": [
    "#### K fold Crossvalidation"
   ]
  },
  {
   "cell_type": "code",
   "execution_count": 116,
   "metadata": {},
   "outputs": [
    {
     "data": {
      "text/plain": [
       "array([0.41678743, 0.42065507, 0.41595018, 0.41507048, 0.41455486])"
      ]
     },
     "execution_count": 116,
     "metadata": {},
     "output_type": "execute_result"
    }
   ],
   "source": [
    "from sklearn.model_selection import ShuffleSplit\n",
    "from sklearn.model_selection import cross_val_score\n",
    "cv=ShuffleSplit(n_splits=5,test_size=0.2,random_state=0)\n",
    "cross_val_score(LinearRegression(),xx_test,yy_test,cv=cv)"
   ]
  },
  {
   "cell_type": "markdown",
   "metadata": {
    "id": "-AH2Uz7odM2F"
   },
   "source": [
    "## 6. Testing"
   ]
  },
  {
   "cell_type": "markdown",
   "metadata": {},
   "source": [
    "#### Linear regression"
   ]
  },
  {
   "cell_type": "code",
   "execution_count": 117,
   "metadata": {},
   "outputs": [
    {
     "data": {
      "text/plain": [
       "array([-4.45245258e-02, -1.15930115e-01,  6.73353262e+00,  6.11308643e-01,\n",
       "       -1.58791992e+00,  5.42235989e+00, -1.32565999e-03, -1.87255254e-02,\n",
       "        2.67006215e-03,  1.77189404e-02])"
      ]
     },
     "execution_count": 117,
     "metadata": {},
     "output_type": "execute_result"
    }
   ],
   "source": [
    "linear.coef_"
   ]
  },
  {
   "cell_type": "code",
   "execution_count": 118,
   "metadata": {},
   "outputs": [
    {
     "data": {
      "text/plain": [
       "array([ 7.95285918, 14.29355318, 14.35673938, ...,  8.75857276,\n",
       "       18.07121757, 22.08682731])"
      ]
     },
     "execution_count": 118,
     "metadata": {},
     "output_type": "execute_result"
    }
   ],
   "source": [
    "prediction = linear.predict(xx_test)\n",
    "prediction"
   ]
  },
  {
   "cell_type": "code",
   "execution_count": 119,
   "metadata": {},
   "outputs": [],
   "source": [
    "prediction=  prediction.astype(int)"
   ]
  },
  {
   "cell_type": "raw",
   "metadata": {},
   "source": [
    "plt.scatter(yy_test,prediction)\n",
    "plt.xlabel('Y Test')\n",
    "plt.ylabel('Predicted Y')"
   ]
  },
  {
   "cell_type": "code",
   "execution_count": 120,
   "metadata": {},
   "outputs": [
    {
     "name": "stdout",
     "output_type": "stream",
     "text": [
      "MAE :   5.291519676802655\n",
      "MSE :   48.02777477185009\n",
      "RMAE :   6.930207411892525\n"
     ]
    }
   ],
   "source": [
    "from sklearn import metrics\n",
    "print('MAE :',\" \", metrics.mean_absolute_error(yy_test,prediction))\n",
    "print('MSE :',\" \", metrics.mean_squared_error(yy_test,prediction))\n",
    "print('RMAE :',\" \", np.sqrt(metrics.mean_squared_error(yy_test,prediction)))"
   ]
  },
  {
   "cell_type": "code",
   "execution_count": 121,
   "metadata": {},
   "outputs": [
    {
     "name": "stderr",
     "output_type": "stream",
     "text": [
      "C:\\Users\\Pratik\\anaconda3\\lib\\site-packages\\seaborn\\distributions.py:2619: FutureWarning: `distplot` is a deprecated function and will be removed in a future version. Please adapt your code to use either `displot` (a figure-level function with similar flexibility) or `histplot` (an axes-level function for histograms).\n",
      "  warnings.warn(msg, FutureWarning)\n"
     ]
    },
    {
     "data": {
      "text/plain": [
       "<AxesSubplot:xlabel='price', ylabel='Density'>"
      ]
     },
     "execution_count": 121,
     "metadata": {},
     "output_type": "execute_result"
    },
    {
     "data": {
      "image/png": "[encoded data removed]",
      "text/plain": [
       "<Figure size 432x288 with 1 Axes>"
      ]
     },
     "metadata": {
      "needs_background": "light"
     },
     "output_type": "display_data"
    }
   ],
   "source": [
    "sns.distplot(yy_test - prediction,bins=50,color='blue')"
   ]
  },
  {
   "cell_type": "markdown",
   "metadata": {
    "id": "U093z2lEdM18"
   },
   "source": [
    "#### Random Forest"
   ]
  },
  {
   "cell_type": "code",
   "execution_count": 122,
   "metadata": {},
   "outputs": [],
   "source": [
    "predictions = random.predict(xx_test)"
   ]
  },
  {
   "cell_type": "code",
   "execution_count": 123,
   "metadata": {},
   "outputs": [
    {
     "name": "stderr",
     "output_type": "stream",
     "text": [
      "C:\\Users\\Pratik\\anaconda3\\lib\\site-packages\\seaborn\\_decorators.py:36: FutureWarning: Pass the following variables as keyword args: x, y. From version 0.12, the only valid positional argument will be `data`, and passing other arguments without an explicit keyword will result in an error or misinterpretation.\n",
      "  warnings.warn(\n"
     ]
    },
    {
     "data": {
      "text/plain": [
       "Text(0, 0.5, 'Predicted Y')"
      ]
     },
     "execution_count": 123,
     "metadata": {},
     "output_type": "execute_result"
    },
    {
     "data": {
      "image/png": "[encoded data removed]",
      "text/plain": [
       "<Figure size 432x288 with 1 Axes>"
      ]
     },
     "metadata": {
      "needs_background": "light"
     },
     "output_type": "display_data"
    }
   ],
   "source": [
    "sns.regplot(yy_test,predictions,color='green')\n",
    "plt.xlabel('Y Test')\n",
    "plt.ylabel('Predicted Y')"
   ]
  },
  {
   "cell_type": "code",
   "execution_count": 124,
   "metadata": {},
   "outputs": [
    {
     "name": "stdout",
     "output_type": "stream",
     "text": [
      "MAE :   1.2568165927706472\n",
      "MSE :   4.406179756198409\n",
      "RMAE :   2.099090221071598\n"
     ]
    }
   ],
   "source": [
    "from sklearn import metrics\n",
    "print('MAE :',\" \", metrics.mean_absolute_error(yy_test,predictions))\n",
    "print('MSE :',\" \", metrics.mean_squared_error(yy_test,predictions))\n",
    "print('RMAE :',\" \", np.sqrt(metrics.mean_squared_error(yy_test,predictions)))"
   ]
  },
  {
   "cell_type": "code",
   "execution_count": 125,
   "metadata": {},
   "outputs": [
    {
     "name": "stderr",
     "output_type": "stream",
     "text": [
      "C:\\Users\\Pratik\\anaconda3\\lib\\site-packages\\seaborn\\distributions.py:2619: FutureWarning: `distplot` is a deprecated function and will be removed in a future version. Please adapt your code to use either `displot` (a figure-level function with similar flexibility) or `histplot` (an axes-level function for histograms).\n",
      "  warnings.warn(msg, FutureWarning)\n"
     ]
    },
    {
     "data": {
      "text/plain": [
       "<AxesSubplot:xlabel='price', ylabel='Density'>"
      ]
     },
     "execution_count": 125,
     "metadata": {},
     "output_type": "execute_result"
    },
    {
     "data": {
      "image/png": "[encoded data removed]",
      "text/plain": [
       "<Figure size 432x288 with 1 Axes>"
      ]
     },
     "metadata": {
      "needs_background": "light"
     },
     "output_type": "display_data"
    }
   ],
   "source": [
    "sns.distplot(yy_test - predictions,bins=50)"
   ]
  },
  {
   "cell_type": "markdown",
   "metadata": {},
   "source": [
    "#### Price prediction function"
   ]
  },
  {
   "cell_type": "code",
   "execution_count": 126,
   "metadata": {},
   "outputs": [
    {
     "data": {
      "text/html": [
       "<div>\n",
       "<style scoped>\n",
       "    .dataframe tbody tr th:only-of-type {\n",
       "        vertical-align: middle;\n",
       "    }\n",
       "\n",
       "    .dataframe tbody tr th {\n",
       "        vertical-align: top;\n",
       "    }\n",
       "\n",
       "    .dataframe thead th {\n",
       "        text-align: right;\n",
       "    }\n",
       "</style>\n",
       "<table border=\"1\" class=\"dataframe\">\n",
       "  <thead>\n",
       "    <tr style=\"text-align: right;\">\n",
       "      <th></th>\n",
       "      <th>source</th>\n",
       "      <th>destination</th>\n",
       "      <th>cab_type</th>\n",
       "      <th>product_id</th>\n",
       "      <th>name</th>\n",
       "      <th>surge_multiplier</th>\n",
       "      <th>temperature</th>\n",
       "      <th>precipProbability</th>\n",
       "      <th>icon</th>\n",
       "      <th>uvIndex</th>\n",
       "    </tr>\n",
       "  </thead>\n",
       "  <tbody>\n",
       "    <tr>\n",
       "      <th>0</th>\n",
       "      <td>5</td>\n",
       "      <td>7</td>\n",
       "      <td>0</td>\n",
       "      <td>8</td>\n",
       "      <td>7</td>\n",
       "      <td>0.0</td>\n",
       "      <td>42.34</td>\n",
       "      <td>0.0</td>\n",
       "      <td>5</td>\n",
       "      <td>0</td>\n",
       "    </tr>\n",
       "    <tr>\n",
       "      <th>1</th>\n",
       "      <td>5</td>\n",
       "      <td>7</td>\n",
       "      <td>0</td>\n",
       "      <td>12</td>\n",
       "      <td>2</td>\n",
       "      <td>0.0</td>\n",
       "      <td>43.58</td>\n",
       "      <td>1.0</td>\n",
       "      <td>6</td>\n",
       "      <td>0</td>\n",
       "    </tr>\n",
       "    <tr>\n",
       "      <th>2</th>\n",
       "      <td>5</td>\n",
       "      <td>7</td>\n",
       "      <td>0</td>\n",
       "      <td>7</td>\n",
       "      <td>5</td>\n",
       "      <td>0.0</td>\n",
       "      <td>38.33</td>\n",
       "      <td>0.0</td>\n",
       "      <td>1</td>\n",
       "      <td>0</td>\n",
       "    </tr>\n",
       "    <tr>\n",
       "      <th>3</th>\n",
       "      <td>5</td>\n",
       "      <td>7</td>\n",
       "      <td>0</td>\n",
       "      <td>10</td>\n",
       "      <td>4</td>\n",
       "      <td>0.0</td>\n",
       "      <td>34.38</td>\n",
       "      <td>0.0</td>\n",
       "      <td>1</td>\n",
       "      <td>0</td>\n",
       "    </tr>\n",
       "    <tr>\n",
       "      <th>4</th>\n",
       "      <td>5</td>\n",
       "      <td>7</td>\n",
       "      <td>0</td>\n",
       "      <td>11</td>\n",
       "      <td>6</td>\n",
       "      <td>0.0</td>\n",
       "      <td>37.44</td>\n",
       "      <td>0.0</td>\n",
       "      <td>5</td>\n",
       "      <td>0</td>\n",
       "    </tr>\n",
       "  </tbody>\n",
       "</table>\n",
       "</div>"
      ],
      "text/plain": [
       "   source  destination  cab_type  product_id  name  surge_multiplier  \\\n",
       "0       5            7         0           8     7               0.0   \n",
       "1       5            7         0          12     2               0.0   \n",
       "2       5            7         0           7     5               0.0   \n",
       "3       5            7         0          10     4               0.0   \n",
       "4       5            7         0          11     6               0.0   \n",
       "\n",
       "   temperature  precipProbability  icon  uvIndex  \n",
       "0        42.34                0.0     5        0  \n",
       "1        43.58                1.0     6        0  \n",
       "2        38.33                0.0     1        0  \n",
       "3        34.38                0.0     1        0  \n",
       "4        37.44                0.0     5        0  "
      ]
     },
     "execution_count": 126,
     "metadata": {},
     "output_type": "execute_result"
    }
   ],
   "source": [
    "newuberdata.head()"
   ]
  },
  {
   "cell_type": "code",
   "execution_count": 127,
   "metadata": {},
   "outputs": [],
   "source": [
    "def predict_price(name,source,surge_multiplier,icon):    \n",
    "    loc_index = np.where(newuberdata.columns==name)[0]\n",
    "\n",
    "    x = np.zeros(len(newuberdata.columns))\n",
    "    x[0] = source\n",
    "    x[1] = surge_multiplier\n",
    "    x[2] = icon\n",
    "    if loc_index >= 0:\n",
    "        x[loc_index] = 1\n",
    "\n",
    "    return random.predict([x])[0]"
   ]
  },
  {
   "cell_type": "code",
   "execution_count": 128,
   "metadata": {
    "id": "oCT_frHKdM2F"
   },
   "outputs": [],
   "source": [
    "pre= random.predict(xx_test)"
   ]
  },
  {
   "cell_type": "markdown",
   "metadata": {},
   "source": [
    "#### Follow  these instructions before predicting the price:\n",
    "\n",
    "\n",
    "-  **For cab_name**:  Black SUV --> 0 , Lux --> 1 , Shared --> 2 , Taxi --> 3 , UberPool --> 4 , UberX --> 5\n",
    "\n",
    "\n",
    "- **For Source**: Back Bay --> 0 , Beacon Hill --> 1 , Boston University --> 2 , Fenway --> 3 , Financial District --> 4 , Haymarket Square --> 5 , North End --> 6 , North Station --> 7 , Northeastern University --> 8 , South Station --> 9 , Theatre District --> 10 , West End --> 11\n",
    "\n",
    "\n",
    "- **For Surge_multiplier** :Enter Surge Multiplier value from 0 to 4\n",
    "\n",
    "\n",
    "- **for Icon**:  clear-day  --> 0 , clear-night  --> 1 , cloudy  --> 2 , fog  --> 3 , partly-cloudy-day  --> 4 , partly-cloudy-night  --> 5 , rain  --> 6\n"
   ]
  },
  {
   "cell_type": "markdown",
   "metadata": {},
   "source": [
    "predict_price(cab_name , source , surge_multiplier , icon)"
   ]
  },
  {
   "cell_type": "code",
   "execution_count": 129,
   "metadata": {},
   "outputs": [
    {
     "name": "stderr",
     "output_type": "stream",
     "text": [
      "C:\\Users\\Pratik\\AppData\\Local\\Temp/ipykernel_3364/1257577895.py:8: DeprecationWarning: The truth value of an empty array is ambiguous. Returning False, but in future this will result in an error. Use `array.size > 0` to check that an array is not empty.\n",
      "  if loc_index >= 0:\n"
     ]
    },
    {
     "data": {
      "text/plain": [
       "34.481666666666676"
      ]
     },
     "execution_count": 129,
     "metadata": {},
     "output_type": "execute_result"
    }
   ],
   "source": [
    "predict_price(1 , 3, 2, 0)"
   ]
  },
  {
   "cell_type": "markdown",
   "metadata": {},
   "source": [
    "\n",
    "# Result Metrics"
   ]
  },
  {
   "cell_type": "code",
   "execution_count": 130,
   "metadata": {},
   "outputs": [
    {
     "name": "stdout",
     "output_type": "stream",
     "text": [
      "Linear Regression Metrics\n",
      "MAE :   5.291519676802655\n",
      "MSE :   48.02777477185009\n",
      "RMAE :   6.930207411892525\n",
      "Decision tree Metrics\n",
      "MAE :   1.2568165927706472\n",
      "MSE :   4.406179756198409\n",
      "RMAE :   2.099090221071598\n"
     ]
    }
   ],
   "source": [
    "\n",
    "print(\"Linear Regression Metrics\")\n",
    "\n",
    "from sklearn.metrics import mean_absolute_error\n",
    "from sklearn.metrics import mean_squared_error\n",
    "print('MAE :',\" \", metrics.mean_absolute_error(yy_test,prediction))\n",
    "print('MSE :',\" \", metrics.mean_squared_error(yy_test,prediction))\n",
    "print('RMAE :',\" \", np.sqrt(metrics.mean_squared_error(yy_test,prediction)))\n",
    "\n",
    "\n",
    "print(\"Decision tree Metrics\")\n",
    "\n",
    "print('MAE :',\" \", metrics.mean_absolute_error(yy_test,predictions))\n",
    "print('MSE :',\" \", metrics.mean_squared_error(yy_test,predictions))\n",
    "print('RMAE :',\" \", np.sqrt(metrics.mean_squared_error(yy_test,predictions)))\n",
    "\n",
    "\n"
   ]
  }
 ],
 "metadata": {
  "colab": {
   "collapsed_sections": [
    "qi1G0xr8dM1Y",
    "JXZS2rP2dM1b",
    "p17aW6tHdM1c",
    "r5gtEk3WdM1n",
    "Mh22ZUP-dM1q",
    "Nrg22on_qgPa",
    "pHzg3qKjdM1u",
    "x_pzLDEQdM1w"
   ],
   "name": "new uber.ipynb",
   "provenance": []
  },
  "kernelspec": {
   "display_name": "Python 3 (ipykernel)",
   "language": "python",
   "name": "python3"
  },
  "language_info": {
   "codemirror_mode": {
    "name": "ipython",
    "version": 3
   },
   "file_extension": ".py",
   "mimetype": "text/x-python",
   "name": "python",
   "nbconvert_exporter": "python",
   "pygments_lexer": "ipython3",
   "version": "3.9.7"
  }
 },
 "nbformat": 4,
 "nbformat_minor": 1
}
